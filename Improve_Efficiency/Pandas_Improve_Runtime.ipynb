{
 "cells": [
  {
   "attachments": {},
   "cell_type": "markdown",
   "metadata": {},
   "source": [
    " ## Techniques to reduce runtime in Pandas"
   ]
  },
  {
   "attachments": {},
   "cell_type": "markdown",
   "metadata": {},
   "source": [
    "### Key Takeaways\n",
    "##### 1. Use Vectorisation \n",
    "##### 2. When converting a column to datetime, specify the format\n",
    "##### 3. The built in function .iterrows is quicker than for loops\n",
    "##### 4. Use .eval expressions on very large datasets\n",
    "##### 5. When combining multiple dataframes, use pd.concat. But only use it once, on a list of all the dataframes    \n",
    "        5i. If the original data is in dictionary form, it is much quicker to create the combined dataframe as the final step on a list of dictionaries"
   ]
  },
  {
   "cell_type": "code",
   "execution_count": 1,
   "metadata": {},
   "outputs": [],
   "source": [
    "#Import modules\n",
    "import pandas as pd\n",
    "import numpy as np\n",
    "rng = np.random.RandomState(123)\n",
    "#Import data\n",
    "date_data = pd.read_csv('data/transactions.csv')\n",
    "time_data = pd.read_csv('data/temperature_and_wind.csv',index_col=0)\n"
   ]
  },
  {
   "cell_type": "code",
   "execution_count": 2,
   "metadata": {},
   "outputs": [],
   "source": [
    "#Create Timing decorator\n",
    "import functools\n",
    "import gc\n",
    "import itertools\n",
    "import sys\n",
    "from timeit import default_timer as _timer\n",
    "\n",
    "\n",
    "def timeit(_func=None, *, repeat=3, number=1000, file=sys.stdout):\n",
    "    \"\"\"Decorator: prints time from best of `repeat` trials.\n",
    "    Mimics `timeit.repeat()`, but avg. time is printed.\n",
    "    Returns function result and prints time.\n",
    "    You can decorate with or without parentheses, as in\n",
    "    Python's @dataclass class decorator.\n",
    "    kwargs are passed to `print()`.\n",
    "    >>> @timeit\n",
    "    ... def f():\n",
    "    ...     return \"-\".join(str(n) for n in range(100))\n",
    "    ...\n",
    "    >>> @timeit(number=100000)\n",
    "    ... def g():\n",
    "    ...     return \"-\".join(str(n) for n in range(10))\n",
    "    ...\n",
    "    \"\"\"\n",
    "\n",
    "    _repeat = functools.partial(itertools.repeat, None)\n",
    "\n",
    "    def wrap(func):\n",
    "        @functools.wraps(func)\n",
    "        def _timeit(*args, **kwargs):\n",
    "            # Temporarily turn off garbage collection during the timing.\n",
    "            # Makes independent timings more comparable.\n",
    "            # If it was originally enabled, switch it back on afterwards.\n",
    "            gcold = gc.isenabled()\n",
    "            gc.disable()\n",
    "\n",
    "            try:\n",
    "                # Outer loop - the number of repeats.\n",
    "                trials = []\n",
    "                for _ in _repeat(repeat):\n",
    "                    # Inner loop - the number of calls within each repeat.\n",
    "                    total = 0\n",
    "                    for _ in _repeat(number):\n",
    "                        start = _timer()\n",
    "                        result = func(*args, **kwargs)\n",
    "                        end = _timer()\n",
    "                        total += end - start\n",
    "                    trials.append(total)\n",
    "\n",
    "                # We want the *average time* from the *best* trial.\n",
    "                # For more on this methodology, see the docs for\n",
    "                # Python's `timeit` module.\n",
    "                #\n",
    "                # \"In a typical case, the lowest value gives a lower bound\n",
    "                # for how fast your machine can run the given code snippet;\n",
    "                # higher values in the result vector are typically not\n",
    "                # caused by variability in Python’s speed, but by other\n",
    "                # processes interfering with your timing accuracy.\"\n",
    "                best = min(trials) / number\n",
    "                print(\n",
    "                    \"Best of {} trials with {} function\"\n",
    "                    \" calls per trial:\".format(repeat, number)\n",
    "                )\n",
    "                print(\n",
    "                    \"Function `{}` ran in average\"\n",
    "                    \" of {:0.3f} seconds.\".format(func.__name__, best),\n",
    "                    end=\"\\n\\n\",\n",
    "                    file=file,\n",
    "                )\n",
    "            finally:\n",
    "                if gcold:\n",
    "                    gc.enable()\n",
    "            # Result is returned *only once*\n",
    "            return result\n",
    "\n",
    "        return _timeit\n",
    "\n",
    "    # Syntax trick from Python @dataclass\n",
    "    if _func is None:\n",
    "        return wrap\n",
    "    else:\n",
    "        return wrap(_func)"
   ]
  },
  {
   "attachments": {},
   "cell_type": "markdown",
   "metadata": {},
   "source": [
    "### 1. Vectorization is much quicker than .apply function\n",
    "    Vectorisation is the ability to run an operation across a whole Series, Index, or even DataFrame at once"
   ]
  },
  {
   "cell_type": "code",
   "execution_count": 3,
   "metadata": {},
   "outputs": [],
   "source": [
    "df = pd.DataFrame(np.random.randint(0, 11, size=(1000000, 5)), columns=('a','b','c','d','e'))"
   ]
  },
  {
   "cell_type": "code",
   "execution_count": 4,
   "metadata": {},
   "outputs": [
    {
     "name": "stdout",
     "output_type": "stream",
     "text": [
      "16.8 s ± 2.11 s per loop (mean ± std. dev. of 7 runs, 1 loop each)\n"
     ]
    }
   ],
   "source": [
    "%%timeit\n",
    "#Apply function\n",
    "def func(a,b,c,d,e):\n",
    "    if e == 10:\n",
    "        return c*d\n",
    "    elif (e < 10) and (e>=5):\n",
    "        return c+d\n",
    "    elif e < 5:\n",
    "        return a+b\n",
    "df['new'] = df.apply(lambda x: func(x['a'], x['b'], x['c'], x['d'], x['e']), axis=1)"
   ]
  },
  {
   "cell_type": "code",
   "execution_count": 5,
   "metadata": {},
   "outputs": [
    {
     "name": "stdout",
     "output_type": "stream",
     "text": [
      "68.4 ms ± 1.25 ms per loop (mean ± std. dev. of 7 runs, 10 loops each)\n"
     ]
    }
   ],
   "source": [
    "%%timeit\n",
    "#Vectorization\n",
    "df['new'] = df['c'] * df['d'] #default case e = =10\n",
    "mask = df['e'] < 10\n",
    "df.loc[mask,'new'] = df['c'] + df['d']\n",
    "mask = df['e'] < 5\n",
    "df.loc[mask,'new'] = df['a'] + df['b']"
   ]
  },
  {
   "attachments": {},
   "cell_type": "markdown",
   "metadata": {},
   "source": [
    "### 2. Specifying the format of datetime when converting\n",
    "\n",
    "    Pandas will take a significant amount of runtime to interpret the data without formatting provided. Note this is the case for Datetime conversion, date conversion is not affected"
   ]
  },
  {
   "attachments": {},
   "cell_type": "markdown",
   "metadata": {},
   "source": [
    "##### DateTime"
   ]
  },
  {
   "cell_type": "code",
   "execution_count": 6,
   "metadata": {},
   "outputs": [
    {
     "name": "stdout",
     "output_type": "stream",
     "text": [
      "Best of 3 trials with 10 function calls per trial:\n",
      "Function `convert` ran in average of 0.619 seconds.\n",
      "\n"
     ]
    }
   ],
   "source": [
    "df = time_data[:10000].copy()\n",
    "\n",
    "@timeit(repeat=3, number=10)\n",
    "def convert(df, column_name):\n",
    "    return pd.to_datetime(df[column_name])\n",
    "    \n",
    "df['Date Time'] = convert(df, 'Date Time')"
   ]
  },
  {
   "cell_type": "code",
   "execution_count": 7,
   "metadata": {},
   "outputs": [
    {
     "name": "stdout",
     "output_type": "stream",
     "text": [
      "Best of 3 trials with 10 function calls per trial:\n",
      "Function `convert_with_format` ran in average of 0.022 seconds.\n",
      "\n"
     ]
    }
   ],
   "source": [
    "df = time_data[:10000].copy()\n",
    "\n",
    "@timeit(repeat=3, number=10)\n",
    "def convert_with_format(df, column_name):\n",
    "    return pd.to_datetime(df[column_name],format='%d.%m.%Y %H:%M:%S')\n",
    "\n",
    "df['Date Time'] = convert_with_format(df, 'Date Time')"
   ]
  },
  {
   "attachments": {},
   "cell_type": "markdown",
   "metadata": {},
   "source": [
    "##### Date"
   ]
  },
  {
   "cell_type": "code",
   "execution_count": 8,
   "metadata": {},
   "outputs": [
    {
     "name": "stdout",
     "output_type": "stream",
     "text": [
      "Best of 3 trials with 10 function calls per trial:\n",
      "Function `convert` ran in average of 0.422 seconds.\n",
      "\n"
     ]
    }
   ],
   "source": [
    "df = date_data.copy()\n",
    "\n",
    "@timeit(repeat=3, number=10)\n",
    "def convert(df, column_name):\n",
    "    return pd.to_datetime(df[column_name])\n",
    "    \n",
    "df['date'] = convert(df, 'date')"
   ]
  },
  {
   "cell_type": "code",
   "execution_count": 9,
   "metadata": {},
   "outputs": [
    {
     "name": "stdout",
     "output_type": "stream",
     "text": [
      "Best of 3 trials with 10 function calls per trial:\n",
      "Function `convert_with_format` ran in average of 0.423 seconds.\n",
      "\n"
     ]
    }
   ],
   "source": [
    "df = date_data.copy()\n",
    "\n",
    "@timeit(repeat=3, number=10)\n",
    "def convert_with_format(df, column_name):\n",
    "    return pd.to_datetime(df[column_name],format='%Y-%m-%d')\n",
    "\n",
    "df['date'] = convert_with_format(df, 'date')"
   ]
  },
  {
   "attachments": {},
   "cell_type": "markdown",
   "metadata": {},
   "source": [
    "### 3. Use .iterrows() or .apply() instead of looping through range"
   ]
  },
  {
   "cell_type": "code",
   "execution_count": 10,
   "metadata": {},
   "outputs": [],
   "source": [
    "# Set Up functions (IGNORE)\n",
    "def convert_with_format(df, column_name):\n",
    "    return pd.to_datetime(df[column_name],format='%d.%m.%Y %H:%M:%S')\n",
    "\n",
    "def times_of_day(hour,temp):\n",
    "    if hour < 6:\n",
    "        rate = 3\n",
    "    elif hour < 12:\n",
    "        rate = 2\n",
    "    elif hour < 16:\n",
    "        rate = 1\n",
    "    elif hour <20:\n",
    "        rate = 2\n",
    "    else:\n",
    "        rate = 3\n",
    "    return rate*temp\n"
   ]
  },
  {
   "attachments": {},
   "cell_type": "markdown",
   "metadata": {},
   "source": [
    "##### For Loop"
   ]
  },
  {
   "cell_type": "code",
   "execution_count": 11,
   "metadata": {},
   "outputs": [
    {
     "name": "stdout",
     "output_type": "stream",
     "text": [
      "Best of 3 trials with 10 function calls per trial:\n",
      "Function `get_temp_perhour` ran in average of 13.660 seconds.\n",
      "\n"
     ]
    }
   ],
   "source": [
    "# Looping through range\n",
    "df = time_data[:100000].copy()\n",
    "\n",
    "\n",
    "@timeit(repeat=3, number=10)\n",
    "def get_temp_perhour(df):\n",
    "    df['Date Time'] = convert_with_format(df, 'Date Time')\n",
    "    temp_hour_list = []\n",
    "    for i in range(len(df)):                        ##### Looping through range\n",
    "        hour = df.iloc[i]['Date Time'].hour\n",
    "        temp = df.iloc[i]['T (degC)']\n",
    "        temp_hour_list.append(times_of_day(hour,temp))\n",
    "\n",
    "    df['temp-hour'] = temp_hour_list\n",
    "get_temp_perhour(df)"
   ]
  },
  {
   "attachments": {},
   "cell_type": "markdown",
   "metadata": {},
   "source": [
    "#### iterrows"
   ]
  },
  {
   "cell_type": "code",
   "execution_count": 12,
   "metadata": {},
   "outputs": [
    {
     "name": "stdout",
     "output_type": "stream",
     "text": [
      "Best of 3 trials with 10 function calls per trial:\n",
      "Function `get_temp_perhour` ran in average of 2.627 seconds.\n",
      "\n"
     ]
    }
   ],
   "source": [
    "# Using iterrows\n",
    "df = time_data[:100000].copy()\n",
    "\n",
    "def convert_with_format(df, column_name):\n",
    "    return pd.to_datetime(df[column_name],format='%d.%m.%Y %H:%M:%S')\n",
    "\n",
    "@timeit(repeat=3, number=10)\n",
    "def get_temp_perhour(df):\n",
    "    df['Date Time'] = convert_with_format(df, 'Date Time')\n",
    "    temp_hour_list = []\n",
    "    for index, row in df.iterrows():                ###### Using iterrows\n",
    "        hour = row['Date Time'].hour\n",
    "        temp = row['T (degC)']\n",
    "        temp_hour_list.append(times_of_day(hour,temp))\n",
    "    df['temp-hour'] = temp_hour_list\n",
    "\n",
    "get_temp_perhour(df)"
   ]
  },
  {
   "attachments": {},
   "cell_type": "markdown",
   "metadata": {},
   "source": [
    "#### The apply function is quicker than both of the above"
   ]
  },
  {
   "cell_type": "code",
   "execution_count": 13,
   "metadata": {},
   "outputs": [
    {
     "name": "stdout",
     "output_type": "stream",
     "text": [
      "Best of 3 trials with 10 function calls per trial:\n",
      "Function `apply_get_temphour` ran in average of 0.906 seconds.\n",
      "\n"
     ]
    }
   ],
   "source": [
    "#Using apply function\n",
    "df = time_data[:100000].copy()\n",
    "\n",
    "def convert_with_format(df, column_name):\n",
    "    return pd.to_datetime(df[column_name],format='%d.%m.%Y %H:%M:%S')\n",
    "\n",
    "@timeit(repeat=3, number=10)\n",
    "def apply_get_temphour(df):\n",
    "    df['Date Time'] = convert_with_format(df, 'Date Time')\n",
    "    df['temp-hour'] = df.apply(                                            #Using apply function\n",
    "        lambda row: times_of_day(row['Date Time'].hour,row['T (degC)']),\n",
    "        axis=1\n",
    "    )\n",
    "apply_get_temphour(df)"
   ]
  },
  {
   "attachments": {},
   "cell_type": "markdown",
   "metadata": {},
   "source": [
    "#### Vectorisation is still quicker than all of the above\n",
    "##### It won't use the original function but vectorisation can be coded in multiple ways"
   ]
  },
  {
   "attachments": {},
   "cell_type": "markdown",
   "metadata": {},
   "source": [
    "    Here .isin() is used though mask can be also used like in case 1"
   ]
  },
  {
   "cell_type": "code",
   "execution_count": 14,
   "metadata": {},
   "outputs": [
    {
     "name": "stdout",
     "output_type": "stream",
     "text": [
      "Best of 3 trials with 10 function calls per trial:\n",
      "Function `use_isin` ran in average of 0.016 seconds.\n",
      "\n"
     ]
    }
   ],
   "source": [
    "df = time_data[:100000].copy()\n",
    "\n",
    "@timeit(repeat=3, number=10)\n",
    "def use_isin(df):\n",
    "    df['Date Time'] = convert_with_format(df, 'Date Time')\n",
    "\n",
    "    time = df['Date Time'].dt.hour\n",
    "    early = time.isin(range(0,6))\n",
    "    morning = time.isin(range(6,12))\n",
    "    afternoon = time.isin(range(12,16))\n",
    "    evening = time.isin(range(16,20))\n",
    "    late = time.isin(range(20,25))\n",
    "\n",
    "\n",
    "    df.loc[early, 'temp-hour'] = df.loc[early, 'T (degC)'] * 3\n",
    "    df.loc[morning, 'temp-hour'] = df.loc[morning, 'T (degC)'] * 2\n",
    "    df.loc[afternoon, 'temp-hour'] = df.loc[afternoon, 'T (degC)'] * 1\n",
    "    df.loc[evening, 'temp-hour'] = df.loc[evening, 'T (degC)'] * 2\n",
    "    df.loc[late, 'temp-hour'] = df.loc[late, 'T (degC)'] * 3\n",
    "\n",
    "use_isin(df)"
   ]
  },
  {
   "attachments": {},
   "cell_type": "markdown",
   "metadata": {},
   "source": [
    "    The built in pd.cut can be used instead of .isin for less lines of code and slight runtime improvement"
   ]
  },
  {
   "cell_type": "code",
   "execution_count": 15,
   "metadata": {},
   "outputs": [
    {
     "name": "stdout",
     "output_type": "stream",
     "text": [
      "Best of 3 trials with 10 function calls per trial:\n",
      "Function `use_cut` ran in average of 0.012 seconds.\n",
      "\n"
     ]
    }
   ],
   "source": [
    "df = time_data[:100000].copy()\n",
    "\n",
    "@timeit(repeat=3, number=10)\n",
    "def use_cut(df):\n",
    "    df['Date Time'] = convert_with_format(df, 'Date Time')\n",
    "\n",
    "    hour_factor = pd.cut(x=df['Date Time'].dt.hour,\n",
    "                        bins=[0,5,11,15,19,24],\n",
    "                        include_lowest=True,\n",
    "                        labels = [3,2,1,4,5]).astype(int)\n",
    "    \n",
    "    hour_factor = hour_factor.replace({4:2,5:3})\n",
    "    \n",
    "    df['temp-hour'] =  hour_factor * df['T (degC)']\n",
    "\n",
    "use_cut(df)"
   ]
  },
  {
   "attachments": {},
   "cell_type": "markdown",
   "metadata": {},
   "source": [
    "    Numpy's digitize function works in the same way as pd.cut, but it's slightly quicker"
   ]
  },
  {
   "cell_type": "code",
   "execution_count": 16,
   "metadata": {},
   "outputs": [
    {
     "name": "stdout",
     "output_type": "stream",
     "text": [
      "Best of 3 trials with 10 function calls per trial:\n",
      "Function `use_digitize` ran in average of 0.009 seconds.\n",
      "\n"
     ]
    }
   ],
   "source": [
    "df = time_data[:100000].copy()\n",
    "\n",
    "@timeit(repeat=3, number=10)\n",
    "def use_digitize(df):\n",
    "    df['Date Time'] = convert_with_format(df, 'Date Time')\n",
    "\n",
    "    bins = np.digitize(df['Date Time'].dt.hour.values,\n",
    "                        bins=[6,12,16,20,24])\n",
    "    factor = np.array([3,2,1,2,3])\n",
    "    \n",
    "    df['temp-hour'] =  factor[bins]\n",
    "\n",
    "use_digitize(df)"
   ]
  },
  {
   "attachments": {},
   "cell_type": "markdown",
   "metadata": {},
   "source": [
    "### 4. Use eval() for large dataframes\n",
    "\n",
    "    Why it is quicker for large dataframes: https://jakevdp.github.io/PythonDataScienceHandbook/03.12-performance-eval-and-query.html"
   ]
  },
  {
   "attachments": {},
   "cell_type": "markdown",
   "metadata": {},
   "source": [
    "##### Eval uses string expressions to efficiently compute operations. In the case below it's over 50% faster"
   ]
  },
  {
   "cell_type": "code",
   "execution_count": 17,
   "metadata": {},
   "outputs": [],
   "source": [
    "nrows, ncols = 100000, 100\n",
    "rng = np.random.RandomState(42)\n",
    "df1, df2, df3, df4,df5 = (pd.DataFrame(rng.rand(nrows, ncols))\n",
    "                      for i in range(5))"
   ]
  },
  {
   "cell_type": "code",
   "execution_count": 18,
   "metadata": {},
   "outputs": [
    {
     "name": "stdout",
     "output_type": "stream",
     "text": [
      "163 ms ± 4.16 ms per loop (mean ± std. dev. of 7 runs, 1 loop each)\n"
     ]
    }
   ],
   "source": [
    "%timeit (-df1 * df2 / (df3 + df4) - df5)"
   ]
  },
  {
   "cell_type": "code",
   "execution_count": 19,
   "metadata": {},
   "outputs": [
    {
     "name": "stdout",
     "output_type": "stream",
     "text": [
      "45.6 ms ± 589 µs per loop (mean ± std. dev. of 7 runs, 10 loops each)\n"
     ]
    }
   ],
   "source": [
    "%timeit pd.eval('-df1 * df2 / (df3 + df4) - df5')"
   ]
  },
  {
   "attachments": {},
   "cell_type": "markdown",
   "metadata": {},
   "source": [
    "### 5. What is the fastest way to concat multiple dataframes?"
   ]
  },
  {
   "cell_type": "code",
   "execution_count": 20,
   "metadata": {},
   "outputs": [],
   "source": [
    "def generate_df(i):\n",
    "    df = pd.DataFrame(i,index=[0],columns=['x', 'y'])\n",
    "    return df\n",
    "\n",
    "def generate_dictionary(i):\n",
    "    return {'x':i,'y':i}"
   ]
  },
  {
   "attachments": {},
   "cell_type": "markdown",
   "metadata": {},
   "source": [
    "#### Concat each dataframe in a for loop (Slowest)"
   ]
  },
  {
   "cell_type": "code",
   "execution_count": 21,
   "metadata": {},
   "outputs": [
    {
     "name": "stdout",
     "output_type": "stream",
     "text": [
      "Best of 3 trials with 1000 function calls per trial:\n",
      "Function `concat_each_df` ran in average of 0.259 seconds.\n",
      "\n"
     ]
    },
    {
     "data": {
      "text/html": [
       "<div>\n",
       "<style scoped>\n",
       "    .dataframe tbody tr th:only-of-type {\n",
       "        vertical-align: middle;\n",
       "    }\n",
       "\n",
       "    .dataframe tbody tr th {\n",
       "        vertical-align: top;\n",
       "    }\n",
       "\n",
       "    .dataframe thead th {\n",
       "        text-align: right;\n",
       "    }\n",
       "</style>\n",
       "<table border=\"1\" class=\"dataframe\">\n",
       "  <thead>\n",
       "    <tr style=\"text-align: right;\">\n",
       "      <th></th>\n",
       "      <th>index</th>\n",
       "      <th>x</th>\n",
       "      <th>y</th>\n",
       "    </tr>\n",
       "  </thead>\n",
       "  <tbody>\n",
       "    <tr>\n",
       "      <th>0</th>\n",
       "      <td>0</td>\n",
       "      <td>1</td>\n",
       "      <td>1</td>\n",
       "    </tr>\n",
       "    <tr>\n",
       "      <th>1</th>\n",
       "      <td>0</td>\n",
       "      <td>2</td>\n",
       "      <td>2</td>\n",
       "    </tr>\n",
       "    <tr>\n",
       "      <th>2</th>\n",
       "      <td>0</td>\n",
       "      <td>3</td>\n",
       "      <td>3</td>\n",
       "    </tr>\n",
       "    <tr>\n",
       "      <th>3</th>\n",
       "      <td>0</td>\n",
       "      <td>4</td>\n",
       "      <td>4</td>\n",
       "    </tr>\n",
       "    <tr>\n",
       "      <th>4</th>\n",
       "      <td>0</td>\n",
       "      <td>5</td>\n",
       "      <td>5</td>\n",
       "    </tr>\n",
       "    <tr>\n",
       "      <th>...</th>\n",
       "      <td>...</td>\n",
       "      <td>...</td>\n",
       "      <td>...</td>\n",
       "    </tr>\n",
       "    <tr>\n",
       "      <th>994</th>\n",
       "      <td>0</td>\n",
       "      <td>995</td>\n",
       "      <td>995</td>\n",
       "    </tr>\n",
       "    <tr>\n",
       "      <th>995</th>\n",
       "      <td>0</td>\n",
       "      <td>996</td>\n",
       "      <td>996</td>\n",
       "    </tr>\n",
       "    <tr>\n",
       "      <th>996</th>\n",
       "      <td>0</td>\n",
       "      <td>997</td>\n",
       "      <td>997</td>\n",
       "    </tr>\n",
       "    <tr>\n",
       "      <th>997</th>\n",
       "      <td>0</td>\n",
       "      <td>998</td>\n",
       "      <td>998</td>\n",
       "    </tr>\n",
       "    <tr>\n",
       "      <th>998</th>\n",
       "      <td>0</td>\n",
       "      <td>999</td>\n",
       "      <td>999</td>\n",
       "    </tr>\n",
       "  </tbody>\n",
       "</table>\n",
       "<p>999 rows × 3 columns</p>\n",
       "</div>"
      ],
      "text/plain": [
       "     index    x    y\n",
       "0        0    1    1\n",
       "1        0    2    2\n",
       "2        0    3    3\n",
       "3        0    4    4\n",
       "4        0    5    5\n",
       "..     ...  ...  ...\n",
       "994      0  995  995\n",
       "995      0  996  996\n",
       "996      0  997  997\n",
       "997      0  998  998\n",
       "998      0  999  999\n",
       "\n",
       "[999 rows x 3 columns]"
      ]
     },
     "execution_count": 21,
     "metadata": {},
     "output_type": "execute_result"
    }
   ],
   "source": [
    "@timeit\n",
    "def concat_each_df(): \n",
    "    combined = pd.DataFrame()\n",
    "\n",
    "    for i in range(1,1000):\n",
    "        df = generate_df(i)\n",
    "        combined = pd.concat([combined, df]) #Concat each new df on current df\n",
    "    return combined.reset_index()\n",
    "    \n",
    "concat_each_df()"
   ]
  },
  {
   "attachments": {},
   "cell_type": "markdown",
   "metadata": {},
   "source": [
    "#### Use concat only once on a list of all dataframes"
   ]
  },
  {
   "cell_type": "code",
   "execution_count": 22,
   "metadata": {},
   "outputs": [
    {
     "name": "stdout",
     "output_type": "stream",
     "text": [
      "Best of 3 trials with 1000 function calls per trial:\n",
      "Function `list_of_dfs` ran in average of 0.145 seconds.\n",
      "\n"
     ]
    },
    {
     "data": {
      "text/html": [
       "<div>\n",
       "<style scoped>\n",
       "    .dataframe tbody tr th:only-of-type {\n",
       "        vertical-align: middle;\n",
       "    }\n",
       "\n",
       "    .dataframe tbody tr th {\n",
       "        vertical-align: top;\n",
       "    }\n",
       "\n",
       "    .dataframe thead th {\n",
       "        text-align: right;\n",
       "    }\n",
       "</style>\n",
       "<table border=\"1\" class=\"dataframe\">\n",
       "  <thead>\n",
       "    <tr style=\"text-align: right;\">\n",
       "      <th></th>\n",
       "      <th>x</th>\n",
       "      <th>y</th>\n",
       "    </tr>\n",
       "  </thead>\n",
       "  <tbody>\n",
       "    <tr>\n",
       "      <th>0</th>\n",
       "      <td>1</td>\n",
       "      <td>1</td>\n",
       "    </tr>\n",
       "    <tr>\n",
       "      <th>1</th>\n",
       "      <td>2</td>\n",
       "      <td>2</td>\n",
       "    </tr>\n",
       "    <tr>\n",
       "      <th>2</th>\n",
       "      <td>3</td>\n",
       "      <td>3</td>\n",
       "    </tr>\n",
       "    <tr>\n",
       "      <th>3</th>\n",
       "      <td>4</td>\n",
       "      <td>4</td>\n",
       "    </tr>\n",
       "    <tr>\n",
       "      <th>4</th>\n",
       "      <td>5</td>\n",
       "      <td>5</td>\n",
       "    </tr>\n",
       "    <tr>\n",
       "      <th>...</th>\n",
       "      <td>...</td>\n",
       "      <td>...</td>\n",
       "    </tr>\n",
       "    <tr>\n",
       "      <th>994</th>\n",
       "      <td>995</td>\n",
       "      <td>995</td>\n",
       "    </tr>\n",
       "    <tr>\n",
       "      <th>995</th>\n",
       "      <td>996</td>\n",
       "      <td>996</td>\n",
       "    </tr>\n",
       "    <tr>\n",
       "      <th>996</th>\n",
       "      <td>997</td>\n",
       "      <td>997</td>\n",
       "    </tr>\n",
       "    <tr>\n",
       "      <th>997</th>\n",
       "      <td>998</td>\n",
       "      <td>998</td>\n",
       "    </tr>\n",
       "    <tr>\n",
       "      <th>998</th>\n",
       "      <td>999</td>\n",
       "      <td>999</td>\n",
       "    </tr>\n",
       "  </tbody>\n",
       "</table>\n",
       "<p>999 rows × 2 columns</p>\n",
       "</div>"
      ],
      "text/plain": [
       "       x    y\n",
       "0      1    1\n",
       "1      2    2\n",
       "2      3    3\n",
       "3      4    4\n",
       "4      5    5\n",
       "..   ...  ...\n",
       "994  995  995\n",
       "995  996  996\n",
       "996  997  997\n",
       "997  998  998\n",
       "998  999  999\n",
       "\n",
       "[999 rows x 2 columns]"
      ]
     },
     "execution_count": 22,
     "metadata": {},
     "output_type": "execute_result"
    }
   ],
   "source": [
    "@timeit\n",
    "def list_of_dfs(): \n",
    "    dfs = []\n",
    "    for i in range(1,1000):\n",
    "        df = generate_df(i)\n",
    "        dfs.append(df)                         ## Add new df to list\n",
    "    return pd.concat(dfs).reset_index(drop=True) ## Apply concat function to list of dfs\n",
    "\n",
    "list_of_dfs()"
   ]
  },
  {
   "attachments": {},
   "cell_type": "markdown",
   "metadata": {},
   "source": [
    "#### Keep data in dictionary format. Create a final dataframe from list of dictionaries"
   ]
  },
  {
   "cell_type": "code",
   "execution_count": 23,
   "metadata": {},
   "outputs": [
    {
     "name": "stdout",
     "output_type": "stream",
     "text": [
      "Best of 3 trials with 1000 function calls per trial:\n",
      "Function `df_from_dict` ran in average of 0.001 seconds.\n",
      "\n"
     ]
    },
    {
     "data": {
      "text/html": [
       "<div>\n",
       "<style scoped>\n",
       "    .dataframe tbody tr th:only-of-type {\n",
       "        vertical-align: middle;\n",
       "    }\n",
       "\n",
       "    .dataframe tbody tr th {\n",
       "        vertical-align: top;\n",
       "    }\n",
       "\n",
       "    .dataframe thead th {\n",
       "        text-align: right;\n",
       "    }\n",
       "</style>\n",
       "<table border=\"1\" class=\"dataframe\">\n",
       "  <thead>\n",
       "    <tr style=\"text-align: right;\">\n",
       "      <th></th>\n",
       "      <th>x</th>\n",
       "      <th>y</th>\n",
       "    </tr>\n",
       "  </thead>\n",
       "  <tbody>\n",
       "    <tr>\n",
       "      <th>0</th>\n",
       "      <td>1</td>\n",
       "      <td>1</td>\n",
       "    </tr>\n",
       "    <tr>\n",
       "      <th>1</th>\n",
       "      <td>2</td>\n",
       "      <td>2</td>\n",
       "    </tr>\n",
       "    <tr>\n",
       "      <th>2</th>\n",
       "      <td>3</td>\n",
       "      <td>3</td>\n",
       "    </tr>\n",
       "    <tr>\n",
       "      <th>3</th>\n",
       "      <td>4</td>\n",
       "      <td>4</td>\n",
       "    </tr>\n",
       "    <tr>\n",
       "      <th>4</th>\n",
       "      <td>5</td>\n",
       "      <td>5</td>\n",
       "    </tr>\n",
       "    <tr>\n",
       "      <th>...</th>\n",
       "      <td>...</td>\n",
       "      <td>...</td>\n",
       "    </tr>\n",
       "    <tr>\n",
       "      <th>994</th>\n",
       "      <td>995</td>\n",
       "      <td>995</td>\n",
       "    </tr>\n",
       "    <tr>\n",
       "      <th>995</th>\n",
       "      <td>996</td>\n",
       "      <td>996</td>\n",
       "    </tr>\n",
       "    <tr>\n",
       "      <th>996</th>\n",
       "      <td>997</td>\n",
       "      <td>997</td>\n",
       "    </tr>\n",
       "    <tr>\n",
       "      <th>997</th>\n",
       "      <td>998</td>\n",
       "      <td>998</td>\n",
       "    </tr>\n",
       "    <tr>\n",
       "      <th>998</th>\n",
       "      <td>999</td>\n",
       "      <td>999</td>\n",
       "    </tr>\n",
       "  </tbody>\n",
       "</table>\n",
       "<p>999 rows × 2 columns</p>\n",
       "</div>"
      ],
      "text/plain": [
       "       x    y\n",
       "0      1    1\n",
       "1      2    2\n",
       "2      3    3\n",
       "3      4    4\n",
       "4      5    5\n",
       "..   ...  ...\n",
       "994  995  995\n",
       "995  996  996\n",
       "996  997  997\n",
       "997  998  998\n",
       "998  999  999\n",
       "\n",
       "[999 rows x 2 columns]"
      ]
     },
     "execution_count": 23,
     "metadata": {},
     "output_type": "execute_result"
    }
   ],
   "source": [
    "@timeit\n",
    "def df_from_dict():\n",
    "    rows = []\n",
    "    for i in range(1, 1000):\n",
    "    # Instead of generating a dataframe, generate a dictionary\n",
    "        dictionary = generate_dictionary(i)\n",
    "        rows.append(dictionary)\n",
    "\n",
    "    return pd.DataFrame(rows)\n",
    "\n",
    "df_from_dict()"
   ]
  }
 ],
 "metadata": {
  "kernelspec": {
   "display_name": "base",
   "language": "python",
   "name": "python3"
  },
  "language_info": {
   "codemirror_mode": {
    "name": "ipython",
    "version": 3
   },
   "file_extension": ".py",
   "mimetype": "text/x-python",
   "name": "python",
   "nbconvert_exporter": "python",
   "pygments_lexer": "ipython3",
   "version": "3.9.12"
  },
  "orig_nbformat": 4,
  "vscode": {
   "interpreter": {
    "hash": "40822256048d7b739914fcd2ba369a5af60e79dffb2c0d02e3636f7ea123ba65"
   }
  }
 },
 "nbformat": 4,
 "nbformat_minor": 2
}
