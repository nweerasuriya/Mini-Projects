{
 "cells": [
  {
   "attachments": {},
   "cell_type": "markdown",
   "metadata": {},
   "source": [
    " ## Techniques to reduce runtime of Python code"
   ]
  },
  {
   "attachments": {},
   "cell_type": "markdown",
   "metadata": {},
   "source": [
    "### 1. Sets and Dictionaries have a quicker lookup speed than Lists"
   ]
  },
  {
   "cell_type": "code",
   "execution_count": 20,
   "metadata": {},
   "outputs": [
    {
     "name": "stdout",
     "output_type": "stream",
     "text": [
      "4.67 s ± 88.9 ms per loop (mean ± std. dev. of 7 runs, 1 loop each)\n"
     ]
    }
   ],
   "source": [
    "%%timeit\n",
    "import random\n",
    "\n",
    "randome_elements = random.sample(range(0, 1000000), 1000)\n",
    "list_seq = list(range(1000000)) # list\n",
    "\n",
    "counter = 0\n",
    "for ele in randome_elements:\n",
    "  if ele in list_seq:\n",
    "    counter += 1"
   ]
  },
  {
   "cell_type": "code",
   "execution_count": 21,
   "metadata": {},
   "outputs": [
    {
     "name": "stdout",
     "output_type": "stream",
     "text": [
      "58.1 ms ± 2.24 ms per loop (mean ± std. dev. of 7 runs, 10 loops each)\n"
     ]
    }
   ],
   "source": [
    "%%timeit\n",
    "import random\n",
    "\n",
    "randome_elements = random.sample(range(0, 1000000), 1000)\n",
    "list_seq = set(range(1000000)) # set\n",
    "\n",
    "counter = 0\n",
    "for ele in randome_elements:\n",
    "  if ele in list_seq:\n",
    "    counter += 1"
   ]
  },
  {
   "attachments": {},
   "cell_type": "markdown",
   "metadata": {},
   "source": [
    "### 2. Use Multiple Assignments"
   ]
  },
  {
   "cell_type": "code",
   "execution_count": 1,
   "metadata": {},
   "outputs": [
    {
     "name": "stdout",
     "output_type": "stream",
     "text": [
      "29.5 ns ± 5.98 ns per loop (mean ± std. dev. of 7 runs, 10,000,000 loops each)\n"
     ]
    }
   ],
   "source": [
    "%%timeit\n",
    "first_name = \"Kevin\"\n",
    "last_name = \"Cunningham\"\n",
    "city = \"Brighton\""
   ]
  },
  {
   "cell_type": "code",
   "execution_count": 2,
   "metadata": {},
   "outputs": [
    {
     "name": "stdout",
     "output_type": "stream",
     "text": [
      "19.7 ns ± 0.513 ns per loop (mean ± std. dev. of 7 runs, 10,000,000 loops each)\n"
     ]
    }
   ],
   "source": [
    "%%timeit\n",
    "first_name, last_name, city = \"Kevin\", \"Cunningham\", \"Brighton\""
   ]
  },
  {
   "attachments": {},
   "cell_type": "markdown",
   "metadata": {},
   "source": [
    "### 3. Use Local Variables instead of Global Variables"
   ]
  },
  {
   "cell_type": "code",
   "execution_count": 29,
   "metadata": {},
   "outputs": [
    {
     "name": "stdout",
     "output_type": "stream",
     "text": [
      "Global ->  2.1979887000002236\n",
      "Local ->  1.9741248999998788\n"
     ]
    }
   ],
   "source": [
    "x = \"Hello World!\"\n",
    "\n",
    "def test_func_glob():\n",
    "    arr = []\n",
    "    for i in range(50):\n",
    "      arr.append(x)\n",
    "\n",
    "def test_func_loc():\n",
    "    x = \"Hello World!\"\n",
    "    arr = []\n",
    "    for i in range(50):\n",
    "      arr.append(x)\n",
    "\n",
    "if __name__ == '__main__':\n",
    "    import timeit\n",
    "    print(\"Global -> \", timeit.timeit(\"test_func_glob()\", setup=\"from __main__ import test_func_glob\"))\n",
    "    print(\"Local -> \", timeit.timeit(\"test_func_loc()\", setup=\"from __main__ import test_func_loc\"))"
   ]
  },
  {
   "attachments": {},
   "cell_type": "markdown",
   "metadata": {},
   "source": [
    "### 4. Use Built-in Functions"
   ]
  },
  {
   "cell_type": "code",
   "execution_count": 45,
   "metadata": {},
   "outputs": [],
   "source": [
    "#Built-in functions are written in C so they are quicker\n",
    "wordlist = ['yes','kick','bother','laugh','Crab','leap','troll','beaver','Party','collection','Except ']"
   ]
  },
  {
   "cell_type": "code",
   "execution_count": 46,
   "metadata": {},
   "outputs": [
    {
     "name": "stdout",
     "output_type": "stream",
     "text": [
      "796 ns ± 12 ns per loop (mean ± std. dev. of 7 runs, 1,000,000 loops each)\n"
     ]
    }
   ],
   "source": [
    "%%timeit\n",
    "#For Loop\n",
    "newlist = []\n",
    "for word in wordlist:\n",
    "    newlist.append(word.upper())"
   ]
  },
  {
   "cell_type": "code",
   "execution_count": 47,
   "metadata": {},
   "outputs": [
    {
     "name": "stdout",
     "output_type": "stream",
     "text": [
      "128 ns ± 2.53 ns per loop (mean ± std. dev. of 7 runs, 10,000,000 loops each)\n"
     ]
    }
   ],
   "source": [
    "%%timeit\n",
    "#Map as a built-in function is quicker\n",
    "newlist = []\n",
    "newlist = map(str.upper, wordlist)"
   ]
  },
  {
   "cell_type": "code",
   "execution_count": 48,
   "metadata": {},
   "outputs": [
    {
     "name": "stdout",
     "output_type": "stream",
     "text": [
      "836 ns ± 12.1 ns per loop (mean ± std. dev. of 7 runs, 1,000,000 loops each)\n"
     ]
    }
   ],
   "source": [
    "%%timeit\n",
    "#List comprehension\n",
    "newlist = [str.upper(word) for word in wordlist]"
   ]
  },
  {
   "attachments": {},
   "cell_type": "markdown",
   "metadata": {},
   "source": [
    "### 5. Use List Comprehension instead of Append\n",
    "\n",
    "##### List comprehension is a neater way of writing code but not always faster as shown above. In the case of appending multiple items it is quicker than a for loop"
   ]
  },
  {
   "cell_type": "code",
   "execution_count": 57,
   "metadata": {},
   "outputs": [
    {
     "name": "stdout",
     "output_type": "stream",
     "text": [
      "12.8 µs ± 310 ns per loop (mean ± std. dev. of 7 runs, 100,000 loops each)\n"
     ]
    }
   ],
   "source": [
    "%%timeit\n",
    "newlist = []\n",
    "for i in range(1, 100):\n",
    "    if i % 2 == 0:\n",
    "        newlist.append(i**2)"
   ]
  },
  {
   "cell_type": "code",
   "execution_count": 58,
   "metadata": {},
   "outputs": [
    {
     "name": "stdout",
     "output_type": "stream",
     "text": [
      "11.6 µs ± 129 ns per loop (mean ± std. dev. of 7 runs, 100,000 loops each)\n"
     ]
    }
   ],
   "source": [
    "%%timeit\n",
    "newlist = []\n",
    "newlist = [i**2 for i in range(1, 100) if i%2==0]"
   ]
  },
  {
   "attachments": {},
   "cell_type": "markdown",
   "metadata": {},
   "source": [
    "### 6. Use Join instead of + for string concatenation"
   ]
  },
  {
   "cell_type": "code",
   "execution_count": 47,
   "metadata": {},
   "outputs": [
    {
     "name": "stdout",
     "output_type": "stream",
     "text": [
      "875 ms ± 20.9 ms per loop (mean ± std. dev. of 7 runs, 1 loop each)\n"
     ]
    }
   ],
   "source": [
    "import string\n",
    "from typing import List\n",
    "\n",
    "def concatString(string_list: List[str]) -> str:\n",
    "    result = ''\n",
    "    for str_i in string_list:\n",
    "        result += str_i  ###\n",
    "    return result\n",
    "\n",
    "def main():\n",
    "    string_list = list(string.ascii_letters * 100)\n",
    "    for _ in range(1000):\n",
    "        result = concatString(string_list)\n",
    "\n",
    "%timeit main()"
   ]
  },
  {
   "cell_type": "code",
   "execution_count": 48,
   "metadata": {},
   "outputs": [
    {
     "name": "stdout",
     "output_type": "stream",
     "text": [
      "24.4 ms ± 4.07 ms per loop (mean ± std. dev. of 7 runs, 10 loops each)\n"
     ]
    }
   ],
   "source": [
    "import string\n",
    "from typing import List\n",
    "\n",
    "def concatString(string_list: List[str]) -> str:\n",
    "    return ''.join(string_list)  ###\n",
    "\n",
    "def main():\n",
    "    string_list = list(string.ascii_letters * 100)\n",
    "    for _ in range(1000):\n",
    "        result = concatString(string_list)\n",
    "\n",
    "%timeit main()"
   ]
  },
  {
   "attachments": {},
   "cell_type": "markdown",
   "metadata": {},
   "source": [
    "### 7. Importing functions from modules efficiently"
   ]
  },
  {
   "attachments": {},
   "cell_type": "markdown",
   "metadata": {},
   "source": [
    "##### 7.1 Import functions from modules directly to avoid using dot operation"
   ]
  },
  {
   "cell_type": "code",
   "execution_count": 44,
   "metadata": {},
   "outputs": [
    {
     "name": "stdout",
     "output_type": "stream",
     "text": [
      "128 ms ± 2.12 ms per loop (mean ± std. dev. of 7 runs, 10 loops each)\n"
     ]
    }
   ],
   "source": [
    "import math\n",
    "\n",
    "def computeSqrt(size: int):\n",
    "    result = []\n",
    "    for i in range(size):\n",
    "        result.append(math.sqrt(i))\n",
    "    return result\n",
    "\n",
    "def main():\n",
    "    size = 1000\n",
    "    for _ in range(size):\n",
    "        result = computeSqrt(size)\n",
    "\n",
    "%timeit main()"
   ]
  },
  {
   "cell_type": "code",
   "execution_count": 45,
   "metadata": {},
   "outputs": [
    {
     "name": "stdout",
     "output_type": "stream",
     "text": [
      "113 ms ± 3.18 ms per loop (mean ± std. dev. of 7 runs, 10 loops each)\n"
     ]
    }
   ],
   "source": [
    "from math import sqrt\n",
    "\n",
    "def computeSqrt(size: int):\n",
    "    result = []\n",
    "    for i in range(size):\n",
    "        result.append(sqrt(i))\n",
    "    return result\n",
    "\n",
    "def main():\n",
    "    size = 1000\n",
    "    for _ in range(size):\n",
    "        result = computeSqrt(size)\n",
    "\n",
    "%timeit main()"
   ]
  },
  {
   "attachments": {},
   "cell_type": "markdown",
   "metadata": {},
   "source": [
    "#### 7.2 Assign global functions to local functions\n",
    "\n",
    "##### Interestingly, 7.1 is not true if the function is defined locally"
   ]
  },
  {
   "cell_type": "code",
   "execution_count": 42,
   "metadata": {},
   "outputs": [
    {
     "name": "stdout",
     "output_type": "stream",
     "text": [
      "103 ms ± 2.9 ms per loop (mean ± std. dev. of 7 runs, 10 loops each)\n"
     ]
    }
   ],
   "source": [
    "import math\n",
    "\n",
    "def computeSqrt(size: int):\n",
    "    result = []\n",
    "    sqrt = math.sqrt        #Local function\n",
    "    for i in range(size):\n",
    "        result.append(sqrt(i))\n",
    "    return result\n",
    "\n",
    "def main():\n",
    "    size = 1000\n",
    "    for _ in range(size):\n",
    "        result = computeSqrt(size)\n",
    "\n",
    "%timeit main()"
   ]
  },
  {
   "cell_type": "code",
   "execution_count": 43,
   "metadata": {},
   "outputs": [
    {
     "name": "stdout",
     "output_type": "stream",
     "text": [
      "96.6 ms ± 3.24 ms per loop (mean ± std. dev. of 7 runs, 10 loops each)\n"
     ]
    }
   ],
   "source": [
    "import math\n",
    "\n",
    "def computeSqrt(size: int):\n",
    "    result = []\n",
    "    append = result.append      #2 local functions\n",
    "    sqrt = math.sqrt\n",
    "    for i in range(size):\n",
    "        append(sqrt(i))\n",
    "    return result\n",
    "\n",
    "def main():\n",
    "    size = 1000\n",
    "    for _ in range(size):\n",
    "        result = computeSqrt(size)\n",
    "\n",
    "%timeit main()"
   ]
  },
  {
   "attachments": {},
   "cell_type": "markdown",
   "metadata": {},
   "source": [
    "### 8. Avoid Checking if a Variable is True"
   ]
  },
  {
   "cell_type": "code",
   "execution_count": 1,
   "metadata": {},
   "outputs": [
    {
     "name": "stdout",
     "output_type": "stream",
     "text": [
      "43.6 ns ± 10 ns per loop (mean ± std. dev. of 7 runs, 10,000,000 loops each)\n"
     ]
    }
   ],
   "source": [
    "%%timeit\n",
    "str = \"Hey there!\"\n",
    "\n",
    "# The traditional way\n",
    "if str != None:\n",
    "  result = \"Found\"\n",
    "else:\n",
    "  result = \"Not Found\""
   ]
  },
  {
   "cell_type": "code",
   "execution_count": 2,
   "metadata": {},
   "outputs": [
    {
     "name": "stdout",
     "output_type": "stream",
     "text": [
      "20.8 ns ± 0.532 ns per loop (mean ± std. dev. of 7 runs, 10,000,000 loops each)\n"
     ]
    }
   ],
   "source": [
    "%%timeit\n",
    "str = \"Hey there!\"\n",
    "# The faster way\n",
    "if str:\n",
    "  result = \"Found\"\n",
    "else:\n",
    "  result = \"Not Found\""
   ]
  },
  {
   "attachments": {},
   "cell_type": "markdown",
   "metadata": {},
   "source": [
    "### 9. Replace 'while' with 'for' loops"
   ]
  },
  {
   "cell_type": "code",
   "execution_count": 39,
   "metadata": {},
   "outputs": [
    {
     "name": "stdout",
     "output_type": "stream",
     "text": [
      "54.6 ms ± 1.57 ms per loop (mean ± std. dev. of 7 runs, 10 loops each)\n"
     ]
    }
   ],
   "source": [
    "#While Loop\n",
    "def computeSum(size: int) -> int:\n",
    "    sum_ = 0\n",
    "    i = 0\n",
    "    while i < size:\n",
    "        sum_ += i\n",
    "        i += 1\n",
    "    return sum_\n",
    "\n",
    "def main():\n",
    "    size = 1000\n",
    "    for _ in range(size):\n",
    "        sum_ = computeSum(size)\n",
    "\n",
    "%timeit main()"
   ]
  },
  {
   "cell_type": "code",
   "execution_count": 40,
   "metadata": {},
   "outputs": [
    {
     "name": "stdout",
     "output_type": "stream",
     "text": [
      "30.2 ms ± 697 µs per loop (mean ± std. dev. of 7 runs, 10 loops each)\n"
     ]
    }
   ],
   "source": [
    "# Explicit for loop\n",
    "def computeSum(size: int) -> int:\n",
    "    sum_ = 0\n",
    "    for i in range(size):  \n",
    "        sum_ += i\n",
    "    return sum_\n",
    "\n",
    "def main():\n",
    "    size = 1000\n",
    "    for _ in range(size):\n",
    "        sum_ = computeSum(size)\n",
    "\n",
    "%timeit main()"
   ]
  },
  {
   "cell_type": "code",
   "execution_count": 41,
   "metadata": {},
   "outputs": [
    {
     "name": "stdout",
     "output_type": "stream",
     "text": [
      "9.45 ms ± 265 µs per loop (mean ± std. dev. of 7 runs, 100 loops each)\n"
     ]
    }
   ],
   "source": [
    "# Implicit for loop\n",
    "def computeSum(size: int) -> int:\n",
    "    return sum(range(size))  \n",
    "\n",
    "def main():\n",
    "    size = 1000\n",
    "    for _ in range(size):\n",
    "        sum = computeSum(size)\n",
    "\n",
    "%timeit main()"
   ]
  },
  {
   "attachments": {},
   "cell_type": "markdown",
   "metadata": {},
   "source": [
    "### 10. Reduce calculations within inner loops"
   ]
  },
  {
   "cell_type": "code",
   "execution_count": 36,
   "metadata": {},
   "outputs": [
    {
     "name": "stdout",
     "output_type": "stream",
     "text": [
      "143 ms ± 989 µs per loop (mean ± std. dev. of 7 runs, 10 loops each)\n"
     ]
    }
   ],
   "source": [
    "import math\n",
    "\n",
    "def main():\n",
    "    size = 1000\n",
    "    sqrt = math.sqrt\n",
    "    for x in range(size):\n",
    "        for y in range(size):\n",
    "            z = sqrt(x) + sqrt(y)\n",
    "\n",
    "%timeit main() "
   ]
  },
  {
   "cell_type": "code",
   "execution_count": 37,
   "metadata": {},
   "outputs": [
    {
     "name": "stdout",
     "output_type": "stream",
     "text": [
      "74.5 ms ± 755 µs per loop (mean ± std. dev. of 7 runs, 10 loops each)\n"
     ]
    }
   ],
   "source": [
    "# Moved sqrt(x) calculation outside of inner loop\n",
    "import math\n",
    "\n",
    "def main():\n",
    "    size = 1000\n",
    "    sqrt = math.sqrt\n",
    "    for x in range(size):\n",
    "        sqrt_x = sqrt(x)    ######## <-------\n",
    "        for y in range(size):\n",
    "            z = sqrt_x + sqrt(y)\n",
    "\n",
    "%timeit main() "
   ]
  },
  {
   "attachments": {},
   "cell_type": "markdown",
   "metadata": {},
   "source": [
    "### 11. Use the Numba.jit Decorator \n",
    "##### Mark a function for optimisation via Numba's JIT compiler\n",
    "##### How it works: https://nyu-cds.github.io/python-numba/01-jit/"
   ]
  },
  {
   "cell_type": "code",
   "execution_count": 35,
   "metadata": {},
   "outputs": [
    {
     "name": "stdout",
     "output_type": "stream",
     "text": [
      "28.3 ms ± 583 µs per loop (mean ± std. dev. of 7 runs, 10 loops each)\n"
     ]
    }
   ],
   "source": [
    "def computeSum(size: float) -> int:\n",
    "    sum = 0\n",
    "    for i in range(size):\n",
    "        sum += i\n",
    "    return sum\n",
    "\n",
    "def main():\n",
    "    size = 1000\n",
    "    for _ in range(size):\n",
    "        sum = computeSum(size)\n",
    "\n",
    "%timeit main()"
   ]
  },
  {
   "cell_type": "code",
   "execution_count": 34,
   "metadata": {},
   "outputs": [
    {
     "name": "stdout",
     "output_type": "stream",
     "text": [
      "99.2 µs ± 1.29 µs per loop (mean ± std. dev. of 7 runs, 10,000 loops each)\n"
     ]
    }
   ],
   "source": [
    "import numba\n",
    "\n",
    "@numba.jit\n",
    "def computeSum(size: float) -> int:\n",
    "    sum = 0\n",
    "    for i in range(size):\n",
    "        sum += i\n",
    "    return sum\n",
    "\n",
    "def main():\n",
    "    size = 1000\n",
    "    for _ in range(size):\n",
    "        sum = computeSum(size)\n",
    "\n",
    "%timeit main()"
   ]
  },
  {
   "cell_type": "code",
   "execution_count": null,
   "metadata": {},
   "outputs": [],
   "source": []
  }
 ],
 "metadata": {
  "kernelspec": {
   "display_name": "base",
   "language": "python",
   "name": "python3"
  },
  "language_info": {
   "codemirror_mode": {
    "name": "ipython",
    "version": 3
   },
   "file_extension": ".py",
   "mimetype": "text/x-python",
   "name": "python",
   "nbconvert_exporter": "python",
   "pygments_lexer": "ipython3",
   "version": "3.9.12 (main, Apr  4 2022, 05:22:27) [MSC v.1916 64 bit (AMD64)]"
  },
  "orig_nbformat": 4,
  "vscode": {
   "interpreter": {
    "hash": "40822256048d7b739914fcd2ba369a5af60e79dffb2c0d02e3636f7ea123ba65"
   }
  }
 },
 "nbformat": 4,
 "nbformat_minor": 2
}
