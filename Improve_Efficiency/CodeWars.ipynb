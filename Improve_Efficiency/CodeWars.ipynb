{
 "cells": [
  {
   "attachments": {},
   "cell_type": "markdown",
   "metadata": {},
   "source": [
    "Your task is to make a function that can take any non-negative integer as an argument and return it with its digits in descending order. Essentially, rearrange the digits to create the highest possible number.\n",
    "\n",
    "Examples:\n",
    "Input: 42145 Output: 54421"
   ]
  },
  {
   "cell_type": "code",
   "execution_count": 29,
   "metadata": {},
   "outputs": [],
   "source": [
    "def descending_order(num):\n",
    "    digits = [int(d) for d in str(num)]\n",
    "    digits.sort(reverse=True)\n",
    "    new = \"\".join(map(str,digits))\n",
    "    return int(new)"
   ]
  },
  {
   "cell_type": "code",
   "execution_count": 30,
   "metadata": {},
   "outputs": [
    {
     "data": {
      "text/plain": [
       "65432"
      ]
     },
     "execution_count": 30,
     "metadata": {},
     "output_type": "execute_result"
    }
   ],
   "source": [
    "descending_order(43256)"
   ]
  },
  {
   "attachments": {},
   "cell_type": "markdown",
   "metadata": {},
   "source": [
    "You live in the city of Cartesia where all roads are laid out in a perfect grid. You arrived ten minutes too early to an appointment, so you decided to take the opportunity to go for a short walk. \n",
    "The city provides its citizens with a Walk Generating App on their phones -- everytime you press the button it sends you an array of one-letter strings representing directions to walk (eg. ['n', 's', 'w', 'e']). \n",
    "You always walk only a single block for each letter (direction) and you know it takes you one minute to traverse one city block, so create a function that will return true if the walk the app gives you will take you exactly ten minutes (you don't want to be early or late!) and will, of course, return you to your starting point. Return false otherwise."
   ]
  },
  {
   "cell_type": "code",
   "execution_count": 51,
   "metadata": {},
   "outputs": [],
   "source": [
    "from collections import Counter\n",
    "def is_valid_walk(walk):\n",
    "    if len(walk) != 10:\n",
    "        return False\n",
    "    val_counts = Counter(walk)\n",
    "    if val_counts['n'] == val_counts ['s']:\n",
    "        if val_counts['e'] == val_counts ['w']:\n",
    "            return True\n",
    "    return False"
   ]
  },
  {
   "cell_type": "code",
   "execution_count": null,
   "metadata": {},
   "outputs": [],
   "source": [
    "## Best solution\n",
    "def isValidWalk(walk):\n",
    "    return len(walk) == 10 and walk.count('n') == walk.count('s') and walk.count('e') == walk.count('w')"
   ]
  },
  {
   "cell_type": "code",
   "execution_count": 54,
   "metadata": {},
   "outputs": [
    {
     "data": {
      "text/plain": [
       "False"
      ]
     },
     "execution_count": 54,
     "metadata": {},
     "output_type": "execute_result"
    }
   ],
   "source": [
    "is_valid_walk(['n','s','w','e','n','s','w','e','n'])"
   ]
  },
  {
   "attachments": {},
   "cell_type": "markdown",
   "metadata": {},
   "source": [
    "Implement the function unique_in_order which takes as argument a sequence and returns a list of items without any elements with the same value next to each other and preserving the original order of elements."
   ]
  },
  {
   "cell_type": "code",
   "execution_count": 86,
   "metadata": {},
   "outputs": [],
   "source": [
    "import itertools\n",
    "def unique_in_order(sequence):\n",
    "    return [k for k,_ in itertools.groupby(sequence)]"
   ]
  },
  {
   "cell_type": "code",
   "execution_count": 87,
   "metadata": {},
   "outputs": [
    {
     "data": {
      "text/plain": [
       "['A', 'B', 'C', 'c', 'A', 'D']"
      ]
     },
     "execution_count": 87,
     "metadata": {},
     "output_type": "execute_result"
    }
   ],
   "source": [
    "unique_in_order('ABBCcAD')"
   ]
  },
  {
   "attachments": {},
   "cell_type": "markdown",
   "metadata": {},
   "source": [
    "Complete the method/function so that it converts dash/underscore delimited words into camel casing. The first word within the output should be capitalized only if the original word was capitalized (known as Upper Camel Case, also often referred to as Pascal case). The next words should be always capitalized.\n",
    "##### \"the-stealth-warrior\" gets converted to \"theStealthWarrior\"\n",
    "##### \"The_Stealth_Warrior\" gets converted to \"TheStealthWarrior\""
   ]
  },
  {
   "cell_type": "code",
   "execution_count": 2,
   "metadata": {},
   "outputs": [],
   "source": [
    "def to_camel_case(text):\n",
    "    return ''.join(text.split('-'))"
   ]
  },
  {
   "cell_type": "code",
   "execution_count": 4,
   "metadata": {},
   "outputs": [],
   "source": [
    "import regex as re\n",
    "def to_camel_case(text):\n",
    "    word_list = re.split('[^a-zA-Z0-9]+',text)\n",
    "    return ''.join([word_list[0]] + [k.capitalize() for k in word_list[1:]])\n",
    "    "
   ]
  },
  {
   "attachments": {},
   "cell_type": "markdown",
   "metadata": {},
   "source": [
    "\\W matches any non-word character equivalent to [^a-zA-Z0-9_] note underscore is included"
   ]
  },
  {
   "cell_type": "code",
   "execution_count": 5,
   "metadata": {},
   "outputs": [
    {
     "data": {
      "text/plain": [
       "'TheStealthWarrior'"
      ]
     },
     "execution_count": 5,
     "metadata": {},
     "output_type": "execute_result"
    }
   ],
   "source": [
    "to_camel_case(\"The_stealth_warrior\")"
   ]
  },
  {
   "attachments": {},
   "cell_type": "markdown",
   "metadata": {},
   "source": [
    "In DNA strings, symbols \"A\" and \"T\" are complements of each other, as \"C\" and \"G\". Your function receives one side of the DNA (string, except for Haskell); you need to return the other complementary side. DNA strand is never empty or there is no DNA at all (again, except for Haskell). \"ATTGC\" --> \"TAACG\""
   ]
  },
  {
   "cell_type": "code",
   "execution_count": 185,
   "metadata": {},
   "outputs": [],
   "source": [
    "def DNA_strand(dna):\n",
    "    mapping = {'A':'T','C':'G','T':'A','G':'C'}\n",
    "    return ''.join([*map(mapping.get,dna)])"
   ]
  },
  {
   "cell_type": "code",
   "execution_count": 186,
   "metadata": {},
   "outputs": [],
   "source": [
    "#Best Solution\n",
    "def DNA_strand(dna):\n",
    "    return dna.translate(str.maketrans(\"ATCG\",\"TAGC\"))"
   ]
  },
  {
   "cell_type": "code",
   "execution_count": 187,
   "metadata": {},
   "outputs": [
    {
     "data": {
      "text/plain": [
       "'TAACG'"
      ]
     },
     "execution_count": 187,
     "metadata": {},
     "output_type": "execute_result"
    }
   ],
   "source": [
    "DNA_strand('ATTGC')"
   ]
  },
  {
   "attachments": {},
   "cell_type": "markdown",
   "metadata": {},
   "source": [
    "Complete the solution so that the function will break up camel casing, using a space between words.\n",
    "\n",
    "Example\n",
    "\"camelCasing\"  =>  \"camel Casing\""
   ]
  },
  {
   "cell_type": "code",
   "execution_count": 22,
   "metadata": {},
   "outputs": [],
   "source": [
    "import regex as re#\n",
    "def solution(s):\n",
    "    word_list = re.findall('.[^A-Z]*',s)\n",
    "    return ' '.join(word_list)"
   ]
  },
  {
   "cell_type": "code",
   "execution_count": 24,
   "metadata": {},
   "outputs": [
    {
     "data": {
      "text/plain": [
       "'break Camel Case'"
      ]
     },
     "execution_count": 24,
     "metadata": {},
     "output_type": "execute_result"
    }
   ],
   "source": [
    "solution('breakCamelCase')"
   ]
  },
  {
   "cell_type": "code",
   "execution_count": 25,
   "metadata": {},
   "outputs": [
    {
     "data": {
      "text/plain": [
       "'break Camel Case'"
      ]
     },
     "execution_count": 25,
     "metadata": {},
     "output_type": "execute_result"
    }
   ],
   "source": [
    "## Efficient solution\n",
    "def solution(s):\n",
    "    return ''.join(' ' + c if c.isupper() else c for c in s)\n",
    "\n",
    "solution('breakCamelCase')"
   ]
  },
  {
   "attachments": {},
   "cell_type": "markdown",
   "metadata": {},
   "source": [
    "Define a function that takes an integer argument and returns a logical value true or false depending on if the integer is a prime.\n",
    "\n",
    "Per Wikipedia, a prime number ( or a prime ) is a natural number greater than 1 that has no positive divisors other than 1 and itself.\n",
    "\n",
    "Requirements\n",
    "You can assume you will be given an integer input.\n",
    "You can not assume that the integer will be only positive. You may be given negative numbers as well ( or 0 ).\n",
    "NOTE on performance: There are no fancy optimizations required, but still the most trivial solutions might time out. Numbers go up to 2^31 ( or similar, depending on language ). Looping all the way up to n, or n/2, will be too slow."
   ]
  },
  {
   "cell_type": "code",
   "execution_count": 77,
   "metadata": {},
   "outputs": [],
   "source": [
    "import math\n",
    "def is_prime(num):\n",
    "    if num <2:\n",
    "        return False\n",
    "    for i in range(2,int(math.sqrt(num))+1):\n",
    "        if (num%i) == 0:\n",
    "            return False\n",
    "    return True"
   ]
  },
  {
   "cell_type": "code",
   "execution_count": 78,
   "metadata": {},
   "outputs": [
    {
     "data": {
      "text/plain": [
       "False"
      ]
     },
     "execution_count": 78,
     "metadata": {},
     "output_type": "execute_result"
    }
   ],
   "source": [
    "is_prime(1176654469)"
   ]
  },
  {
   "cell_type": "code",
   "execution_count": 79,
   "metadata": {},
   "outputs": [],
   "source": [
    "# Interesting solution\n",
    "def is_prime(n):\n",
    "    return n>1 and all(n%i for i in range(2, int(n**.5+1)))"
   ]
  },
  {
   "attachments": {},
   "cell_type": "markdown",
   "metadata": {},
   "source": [
    "The Fibonacci numbers are the numbers in the following integer sequence (Fn):\n",
    "\n",
    "0, 1, 1, 2, 3, 5, 8, 13, 21, 34, 55, 89, 144, 233, ...\n",
    "\n",
    "such as\n",
    "\n",
    "F(n) = F(n-1) + F(n-2) with F(0) = 0 and F(1) = 1.\n",
    "\n",
    "Given a number, say prod (for product), we search two Fibonacci numbers F(n) and F(n+1) verifying\n",
    "\n",
    "F(n) * F(n+1) = prod.\n",
    "\n",
    "Your function productFib takes an integer (prod) and returns an array:\n",
    "\n",
    "[F(n), F(n+1), true] or {F(n), F(n+1), 1} or (F(n), F(n+1), True)\n",
    "depending on the language if F(n) * F(n+1) = prod.\n",
    "\n",
    "If you don't find two consecutive F(n) verifying F(n) * F(n+1) = prod you will return\n",
    "\n",
    "[F(n), F(n+1), false] or {F(n), F(n+1), 0} or (F(n), F(n+1), False)\n",
    "\n",
    "F(n) being the smallest one such as F(n) * F(n+1) > prod.\n",
    "\n",
    "Some Examples of Return:\n",
    "(depend on the language)\n",
    "\n",
    "productFib(714) # should return (21, 34, true), \n",
    "                # since F(8) = 21, F(9) = 34 and 714 = 21 * 34\n",
    "\n",
    "productFib(800) # should return (34, 55, false), \n",
    "                # since F(8) = 21, F(9) = 34, F(10) = 55 and 21 * 34 < 800 < 34 * 55"
   ]
  },
  {
   "cell_type": "code",
   "execution_count": 97,
   "metadata": {},
   "outputs": [],
   "source": [
    "import math\n",
    "def productFib(prod):\n",
    "    fib = [0,1]\n",
    "    fib_prod = []\n",
    "    for n in range(1,500):\n",
    "        fib.append(fib[n-1]+fib[n])\n",
    "    for i in range(1,len(fib)):\n",
    "        fib_prod.append(fib[i-1]*fib[i])\n",
    "    if prod in fib_prod:\n",
    "        idx = fib_prod.index(prod)\n",
    "        return [fib[idx],fib[idx+1],True]\n",
    "    else:\n",
    "        val1 = min([i for i in fib_prod if prod < i])\n",
    "        idx = fib_prod.index(val1)\n",
    "        return [fib[idx],fib[idx+1],False]"
   ]
  },
  {
   "cell_type": "code",
   "execution_count": 98,
   "metadata": {},
   "outputs": [
    {
     "data": {
      "text/plain": [
       "[987, 1597, False]"
      ]
     },
     "execution_count": 98,
     "metadata": {},
     "output_type": "execute_result"
    }
   ],
   "source": [
    "productFib(1234567)"
   ]
  },
  {
   "cell_type": "code",
   "execution_count": 99,
   "metadata": {},
   "outputs": [],
   "source": [
    "def productFib(prod):\n",
    "  a, b = 0, 1\n",
    "  while prod > a * b:\n",
    "    a, b = b, a + b\n",
    "  return [a, b, prod == a * b]"
   ]
  },
  {
   "cell_type": "code",
   "execution_count": 96,
   "metadata": {},
   "outputs": [
    {
     "data": {
      "text/plain": [
       "[987, 1597, False]"
      ]
     },
     "execution_count": 96,
     "metadata": {},
     "output_type": "execute_result"
    }
   ],
   "source": [
    "productFib(1234567)"
   ]
  },
  {
   "attachments": {},
   "cell_type": "markdown",
   "metadata": {},
   "source": [
    "Build a pyramid-shaped tower, as an array/list of strings, given a positive integer number of floors. A tower block is represented with \"*\" character.\n",
    "\n",
    "For example, a tower with 3 floors looks like this:\n",
    "\n",
    "[\n",
    "  \"  *  \",\n",
    "\n",
    "  \" *** \", \n",
    "  \n",
    "  \"*****\"\n",
    "]\n",
    "\n",
    "with spaces "
   ]
  },
  {
   "cell_type": "code",
   "execution_count": 250,
   "metadata": {},
   "outputs": [],
   "source": [
    "def tower_builder(n_floors):\n",
    "    limit = int((n_floors*2)-1)\n",
    "    temp = '-'*(int(limit/2))\n",
    "    return [temp[:int((limit-(num+(i-1)))/2)] + ('*')*(num+(i-1)) + temp[:int((limit-(num+(i-1)))/2)] for num,i in enumerate(range(1,n_floors+1),1)]\n",
    "    "
   ]
  },
  {
   "cell_type": "code",
   "execution_count": 251,
   "metadata": {},
   "outputs": [
    {
     "data": {
      "text/plain": [
       "['-----*-----',\n",
       " '----***----',\n",
       " '---*****---',\n",
       " '--*******--',\n",
       " '-*********-',\n",
       " '***********']"
      ]
     },
     "execution_count": 251,
     "metadata": {},
     "output_type": "execute_result"
    }
   ],
   "source": [
    "tower_builder(6)\n"
   ]
  },
  {
   "cell_type": "code",
   "execution_count": 252,
   "metadata": {},
   "outputs": [],
   "source": [
    "#Solution\n",
    "def tower_builder(n):\n",
    "    return [(\"*\" * (i*2-1)).center(n*2-1) for i in range(1, n+1)]"
   ]
  },
  {
   "cell_type": "code",
   "execution_count": 253,
   "metadata": {},
   "outputs": [
    {
     "data": {
      "text/plain": [
       "['     *     ',\n",
       " '    ***    ',\n",
       " '   *****   ',\n",
       " '  *******  ',\n",
       " ' ********* ',\n",
       " '***********']"
      ]
     },
     "execution_count": 253,
     "metadata": {},
     "output_type": "execute_result"
    }
   ],
   "source": [
    "tower_builder(6)"
   ]
  },
  {
   "attachments": {},
   "cell_type": "markdown",
   "metadata": {},
   "source": [
    " Hashtag Generator!\n",
    " \n",
    "It must start with a hashtag (#).\n",
    "\n",
    "All words must have their first letter capitalized.\n",
    "\n",
    "If the final result is longer than 140 chars it must return false.\n",
    "\n",
    "If the input or the result is an empty string it must return false."
   ]
  },
  {
   "cell_type": "code",
   "execution_count": 36,
   "metadata": {},
   "outputs": [],
   "source": [
    "import regex as re\n",
    "def generate_hashtag(s):\n",
    "    word_list = re.split('[^a-zA-Z0-9]+',s)\n",
    "    cap_string = '#' + ''.join([k.capitalize() for k in word_list])\n",
    "    if cap_string == '#'or len(cap_string) > 140:\n",
    "        return False\n",
    "    return cap_string"
   ]
  },
  {
   "cell_type": "code",
   "execution_count": 37,
   "metadata": {},
   "outputs": [
    {
     "data": {
      "text/plain": [
       "'#HelloWorld'"
      ]
     },
     "execution_count": 37,
     "metadata": {},
     "output_type": "execute_result"
    }
   ],
   "source": [
    "generate_hashtag('    Hello     World   ')"
   ]
  },
  {
   "cell_type": "code",
   "execution_count": 38,
   "metadata": {},
   "outputs": [],
   "source": [
    "#Other solution\n",
    "def generate_hashtag(s):\n",
    "    output = \"#\"\n",
    "    \n",
    "    for word in s.split():\n",
    "        output += word.capitalize()\n",
    "    \n",
    "    return False if (len(s) == 0 or len(output) > 140) else output"
   ]
  },
  {
   "cell_type": "code",
   "execution_count": 39,
   "metadata": {},
   "outputs": [
    {
     "data": {
      "text/plain": [
       "'#HelloWorld'"
      ]
     },
     "execution_count": 39,
     "metadata": {},
     "output_type": "execute_result"
    }
   ],
   "source": [
    "generate_hashtag('    Hello     World   ')"
   ]
  },
  {
   "attachments": {},
   "cell_type": "markdown",
   "metadata": {},
   "source": [
    "If we list all the natural numbers below 10 that are multiples of 3 or 5, we get 3, 5, 6 and 9. The sum of these multiples is 23.\n",
    "\n",
    "Finish the solution so that it returns the sum of all the multiples of 3 or 5 below the number passed in. Additionally, if the number is negative, return 0 (for languages that do have them).\n",
    "\n",
    "Note: If the number is a multiple of both 3 and 5, only count it once."
   ]
  },
  {
   "cell_type": "code",
   "execution_count": 34,
   "metadata": {},
   "outputs": [],
   "source": [
    "def solution(num):\n",
    "    return sum(x for x in range(1,num) if x % 3 == 0 or x % 5 == 0)"
   ]
  },
  {
   "cell_type": "code",
   "execution_count": 36,
   "metadata": {},
   "outputs": [
    {
     "data": {
      "text/plain": [
       "60"
      ]
     },
     "execution_count": 36,
     "metadata": {},
     "output_type": "execute_result"
    }
   ],
   "source": [
    "solution(16)"
   ]
  },
  {
   "attachments": {},
   "cell_type": "markdown",
   "metadata": {},
   "source": [
    "Trolls are attacking your comment section!\n",
    "\n",
    "A common way to deal with this situation is to remove all of the vowels from the trolls' comments, neutralizing the threat.\n",
    "\n",
    "Your task is to write a function that takes a string and return a new string with all vowels removed.\n",
    "\n",
    "For example, the string \"This website is for losers LOL!\" would become \"Ths wbst s fr lsrs LL!\"."
   ]
  },
  {
   "cell_type": "code",
   "execution_count": 44,
   "metadata": {},
   "outputs": [],
   "source": [
    "import regex as re\n",
    "def disemvowel(s):\n",
    "    return re.sub(r'[AEIOU]', '', s, flags=re.IGNORECASE)"
   ]
  },
  {
   "cell_type": "code",
   "execution_count": 45,
   "metadata": {},
   "outputs": [
    {
     "data": {
      "text/plain": [
       "'Ths wbst s fr lsrs LL!'"
      ]
     },
     "execution_count": 45,
     "metadata": {},
     "output_type": "execute_result"
    }
   ],
   "source": [
    "disemvowel('This website is for losers LOL!')"
   ]
  },
  {
   "attachments": {},
   "cell_type": "markdown",
   "metadata": {},
   "source": [
    "Complete the function/method (depending on the language) to return true/True when its argument is an array that has the same nesting structures and same corresponding length of nested arrays as the first array.\n",
    "\n",
    "For example:\n",
    "\n",
    "should return True:\n",
    "\n",
    "same_structure_as([ 1, 1, 1 ], [ 2, 2, 2 ] )\n",
    "\n",
    "same_structure_as([ 1, [ 1, 1 ] ], [ 2, [ 2, 2 ] ] )\n",
    "\n",
    "should return False:\n",
    "\n",
    "same_structure_as([ 1, [ 1, 1 ] ], [ [ 2, 2 ], 2 ] )\n",
    "\n",
    "same_structure_as([ 1, [ 1, 1 ] ], [ [ 2 ], 2 ] )"
   ]
  },
  {
   "cell_type": "code",
   "execution_count": 124,
   "metadata": {},
   "outputs": [],
   "source": [
    "import numpy as np\n",
    "def same_structure_as(original,other):\n",
    "    if type(original) == type(other):\n",
    "        len_og = [np.asarray(x,dtype=object).shape if type(x) == list or x == None else 1 for x in original]\n",
    "        len_other = [np.asarray(x,dtype=object).shape if type(x) == list else 1 for x in other]\n",
    "        if len_og == len_other:\n",
    "            return True\n",
    "        else:\n",
    "            return False\n",
    "    else:\n",
    "        return False\n",
    "\n"
   ]
  },
  {
   "cell_type": "code",
   "execution_count": 134,
   "metadata": {},
   "outputs": [
    {
     "data": {
      "text/plain": [
       "False"
      ]
     },
     "execution_count": 134,
     "metadata": {},
     "output_type": "execute_result"
    }
   ],
   "source": [
    "same_structure_as([ 1, [ 1, 1 ] ], [ [ 2, 2 ], 2 ] )"
   ]
  },
  {
   "cell_type": "code",
   "execution_count": 133,
   "metadata": {},
   "outputs": [
    {
     "data": {
      "text/plain": [
       "False"
      ]
     },
     "execution_count": 133,
     "metadata": {},
     "output_type": "execute_result"
    }
   ],
   "source": [
    "same_structure_as([[[1,1]]],[[2,2]])"
   ]
  },
  {
   "cell_type": "code",
   "execution_count": 132,
   "metadata": {},
   "outputs": [],
   "source": [
    "#Solution\n",
    "def same_structure_as(original,other):\n",
    "    if isinstance(original, list) and isinstance(other, list) and len(original) == len(other):\n",
    "        for o1, o2 in zip(original, other):\n",
    "            if not same_structure_as(o1, o2): return False\n",
    "        else: return True\n",
    "    else: return not isinstance(original, list) and not isinstance(other, list)"
   ]
  },
  {
   "cell_type": "code",
   "execution_count": null,
   "metadata": {},
   "outputs": [],
   "source": [
    "#Other solution\n",
    "def same_structure_as(original, other):\n",
    "    if type(original) == list == type(other):\n",
    "        return len(original) == len(other) and all(map(same_structure_as, original, other))\n",
    "    else:\n",
    "        return type(original) != list != type(other)"
   ]
  },
  {
   "attachments": {},
   "cell_type": "markdown",
   "metadata": {},
   "source": [
    "Write an algorithm that takes an array and moves all of the zeros to the end, preserving the order of the other elements.\n",
    "\n",
    "move_zeros([1, 0, 1, 2, 0, 1, 3]) # returns [1, 1, 2, 1, 3, 0, 0]"
   ]
  },
  {
   "cell_type": "code",
   "execution_count": 171,
   "metadata": {},
   "outputs": [],
   "source": [
    "def move_zeros(lst):\n",
    "    return [x for x in lst if x != 0 ] + [0]*lst.count(0)"
   ]
  },
  {
   "cell_type": "code",
   "execution_count": 172,
   "metadata": {},
   "outputs": [
    {
     "data": {
      "text/plain": [
       "[1, 1, 2, 1, 3, 0, 0]"
      ]
     },
     "execution_count": 172,
     "metadata": {},
     "output_type": "execute_result"
    }
   ],
   "source": [
    "move_zeros([1, 0, 1, 2, 0, 1, 3])"
   ]
  },
  {
   "attachments": {},
   "cell_type": "markdown",
   "metadata": {},
   "source": [
    "ROT13 is a simple letter substitution cipher that replaces a letter with the letter 13 letters after it in the alphabet. ROT13 is an example of the Caesar cipher.\n",
    "\n",
    "Create a function that takes a string and returns the string ciphered with Rot13. If there are numbers or special characters included in the string, they should be returned as they are. Only letters from the latin/english alphabet should be shifted, like in the original Rot13 \"implementation\"."
   ]
  },
  {
   "cell_type": "code",
   "execution_count": 78,
   "metadata": {},
   "outputs": [],
   "source": [
    "def rot13(message):\n",
    "    caps = [1 if x.isupper() else 0 for x in message]\n",
    "    message_lower = message.lower()\n",
    "    char_list = []\n",
    "    for char in message_lower:\n",
    "        if ord(char) < 65 or ord(char)>122 or ord(char) in range(94,96):\n",
    "            char_list.append(char)\n",
    "        elif ord(char)+13 <= ord('z'):\n",
    "            char_list.append(chr(ord(char)+13))\n",
    "        else:\n",
    "            char_list.append(chr(((ord(char)+13)-ord('z')+96)))\n",
    "    return ''.join([k.upper() if l == 1 else k for l,k in list(zip(caps,char_list))])\n"
   ]
  },
  {
   "cell_type": "code",
   "execution_count": 79,
   "metadata": {},
   "outputs": [
    {
     "data": {
      "text/plain": [
       "'Grfg'"
      ]
     },
     "execution_count": 79,
     "metadata": {},
     "output_type": "execute_result"
    }
   ],
   "source": [
    "rot13('Test')"
   ]
  },
  {
   "cell_type": "code",
   "execution_count": 80,
   "metadata": {},
   "outputs": [
    {
     "data": {
      "text/plain": [
       "'123456 !@#$%^&*+?~()_-+=:;:'"
      ]
     },
     "execution_count": 80,
     "metadata": {},
     "output_type": "execute_result"
    }
   ],
   "source": [
    "rot13(\"123456 !@#$%^&*+?~()_-+=:;:\")"
   ]
  },
  {
   "cell_type": "code",
   "execution_count": 77,
   "metadata": {},
   "outputs": [
    {
     "data": {
      "text/plain": [
       "95"
      ]
     },
     "execution_count": 77,
     "metadata": {},
     "output_type": "execute_result"
    }
   ],
   "source": [
    "#Solution\n",
    "import string\n",
    "from codecs import encode as _dont_use_this_\n",
    "\n",
    "def rot13(message):\n",
    "    alpha = \"ABCDEFGHIJKLMNOPQRSTUVWXYZ\"\n",
    "    outputMessage = \"\"\n",
    "    for letter in message:\n",
    "        if letter in alpha.lower():\n",
    "            outputMessage += alpha[(alpha.lower().index(letter) +13) % 26].lower()\n",
    "        elif letter in alpha:\n",
    "            outputMessage += alpha[(alpha.index(letter) +13) % 26]\n",
    "        else:\n",
    "            outputMessage += letter\n",
    "    return outputMessage"
   ]
  },
  {
   "cell_type": "code",
   "execution_count": null,
   "metadata": {},
   "outputs": [],
   "source": []
  }
 ],
 "metadata": {
  "kernelspec": {
   "display_name": "base",
   "language": "python",
   "name": "python3"
  },
  "language_info": {
   "codemirror_mode": {
    "name": "ipython",
    "version": 3
   },
   "file_extension": ".py",
   "mimetype": "text/x-python",
   "name": "python",
   "nbconvert_exporter": "python",
   "pygments_lexer": "ipython3",
   "version": "3.9.12"
  },
  "orig_nbformat": 4,
  "vscode": {
   "interpreter": {
    "hash": "40822256048d7b739914fcd2ba369a5af60e79dffb2c0d02e3636f7ea123ba65"
   }
  }
 },
 "nbformat": 4,
 "nbformat_minor": 2
}
