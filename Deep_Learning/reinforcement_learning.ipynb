{
 "cells": [
  {
   "cell_type": "code",
   "execution_count": 2,
   "metadata": {},
   "outputs": [],
   "source": [
    "import random"
   ]
  },
  {
   "attachments": {},
   "cell_type": "markdown",
   "metadata": {},
   "source": [
    "### Creating a basic Environment and Agent"
   ]
  },
  {
   "cell_type": "code",
   "execution_count": 3,
   "metadata": {},
   "outputs": [],
   "source": [
    "class Environment:\n",
    "\n",
    "    #Initialise Internal state\n",
    "    #Limit number of steps\n",
    "    def __init__(self):\n",
    "        self.steps_left = 10\n",
    "\n",
    "    #Current environement which is always zero in this case\n",
    "    def get_observation(self) -> list[float]:\n",
    "        return [0.0, 0.0, 0.0]\n",
    "\n",
    "    #Query set of possible actions\n",
    "    def get_actions(self) -> list[int]:\n",
    "        return [0, 1]\n",
    "    \n",
    "    #Signals when episode is over (episode is environment-agent interactions which can be finite of infinite)\n",
    "    def is_done(self) -> bool:\n",
    "        return self.steps_left == 0\n",
    "\n",
    "    #Here reward of action is random\n",
    "    def action(self, action: int) -> float:\n",
    "        if self.is_done():\n",
    "            raise Exception(\"Game is over\")\n",
    "        self.steps_left -= 1\n",
    "        return random.random()"
   ]
  },
  {
   "cell_type": "code",
   "execution_count": 4,
   "metadata": {},
   "outputs": [],
   "source": [
    "class Agent:\n",
    "     def __init__(self):                                                                \n",
    "        self.total_reward = 0.0\n",
    "\n",
    "    #Constructor\n",
    "    #Initialise reward counter\n",
    "     def step(self, env: Environment):\n",
    "        current_obs = env.get_observation()\n",
    "        actions = env.get_actions()\n",
    "        reward = env.action(random.choice(actions))\n",
    "        self.total_reward += reward"
   ]
  },
  {
   "cell_type": "code",
   "execution_count": 4,
   "metadata": {},
   "outputs": [
    {
     "name": "stdout",
     "output_type": "stream",
     "text": [
      "Total reward got: 0.2943\n",
      "Total reward got: 1.1827\n",
      "Total reward got: 1.5452\n",
      "Total reward got: 2.1744\n",
      "Total reward got: 2.7393\n",
      "Total reward got: 3.7271\n",
      "Total reward got: 4.5165\n",
      "Total reward got: 4.6750\n",
      "Total reward got: 5.2035\n",
      "Total reward got: 5.2846\n"
     ]
    }
   ],
   "source": [
    "env = Environment()\n",
    "agent = Agent()\n",
    "while not env.is_done():\n",
    "    agent.step(env)\n",
    "    print(\"Total reward got: %.4f\" % agent.total_reward)"
   ]
  },
  {
   "attachments": {},
   "cell_type": "markdown",
   "metadata": {},
   "source": [
    "## CartPole"
   ]
  },
  {
   "attachments": {
    "image.png": {
     "image/png": "[encoded data removed]"
    }
   },
   "cell_type": "markdown",
   "metadata": {},
   "source": [
    "![image.png](attachment:image.png)"
   ]
  },
  {
   "attachments": {},
   "cell_type": "markdown",
   "metadata": {},
   "source": [
    "Stick tends to fall right or left and you need to balance it by\n",
    "moving the platform to the right or left on every step.\n",
    "\n",
    "https://github.com/openai/gym/blob/master/gym/envs/classic_control/cartpole.py"
   ]
  },
  {
   "attachments": {},
   "cell_type": "markdown",
   "metadata": {},
   "source": [
    "### Explore Environment"
   ]
  },
  {
   "cell_type": "code",
   "execution_count": 5,
   "metadata": {},
   "outputs": [],
   "source": [
    "import gym\n",
    "e = gym.make('CartPole-v1')"
   ]
  },
  {
   "cell_type": "code",
   "execution_count": 20,
   "metadata": {},
   "outputs": [
    {
     "data": {
      "text/plain": [
       "(array([ 0.00184696,  0.0437621 , -0.02684989,  0.04611047], dtype=float32),\n",
       " {})"
      ]
     },
     "execution_count": 20,
     "metadata": {},
     "output_type": "execute_result"
    }
   ],
   "source": [
    "obs = e.reset()\n",
    "obs"
   ]
  },
  {
   "cell_type": "code",
   "execution_count": 21,
   "metadata": {},
   "outputs": [
    {
     "data": {
      "text/plain": [
       "Discrete(2)"
      ]
     },
     "execution_count": 21,
     "metadata": {},
     "output_type": "execute_result"
    }
   ],
   "source": [
    "e.action_space"
   ]
  },
  {
   "cell_type": "code",
   "execution_count": 27,
   "metadata": {},
   "outputs": [
    {
     "data": {
      "text/plain": [
       "1"
      ]
     },
     "execution_count": 27,
     "metadata": {},
     "output_type": "execute_result"
    }
   ],
   "source": [
    "e.action_space.sample()"
   ]
  },
  {
   "cell_type": "code",
   "execution_count": 22,
   "metadata": {},
   "outputs": [
    {
     "data": {
      "text/plain": [
       "Box([-4.8000002e+00 -3.4028235e+38 -4.1887903e-01 -3.4028235e+38], [4.8000002e+00 3.4028235e+38 4.1887903e-01 3.4028235e+38], (4,), float32)"
      ]
     },
     "execution_count": 22,
     "metadata": {},
     "output_type": "execute_result"
    }
   ],
   "source": [
    "e.observation_space"
   ]
  },
  {
   "cell_type": "code",
   "execution_count": 23,
   "metadata": {},
   "outputs": [
    {
     "data": {
      "text/plain": [
       "(array([ 0.0027222 , -0.15096475, -0.02592768,  0.33020255], dtype=float32),\n",
       " 1.0,\n",
       " False,\n",
       " False,\n",
       " {})"
      ]
     },
     "execution_count": 23,
     "metadata": {},
     "output_type": "execute_result"
    }
   ],
   "source": [
    "e.step(0)"
   ]
  },
  {
   "attachments": {},
   "cell_type": "markdown",
   "metadata": {},
   "source": [
    "### Random CartPole Agent"
   ]
  },
  {
   "cell_type": "code",
   "execution_count": 29,
   "metadata": {},
   "outputs": [
    {
     "name": "stdout",
     "output_type": "stream",
     "text": [
      "Episode done in 1 steps, total reward 1.00\n",
      "Episode done in 2 steps, total reward 2.00\n",
      "Episode done in 3 steps, total reward 3.00\n",
      "Episode done in 4 steps, total reward 4.00\n",
      "Episode done in 5 steps, total reward 5.00\n",
      "Episode done in 6 steps, total reward 6.00\n",
      "Episode done in 7 steps, total reward 7.00\n",
      "Episode done in 8 steps, total reward 8.00\n",
      "Episode done in 9 steps, total reward 9.00\n",
      "Episode done in 10 steps, total reward 10.00\n",
      "Episode done in 11 steps, total reward 11.00\n",
      "Episode done in 12 steps, total reward 12.00\n",
      "Episode done in 13 steps, total reward 13.00\n",
      "Episode done in 14 steps, total reward 14.00\n",
      "Episode done in 15 steps, total reward 15.00\n",
      "Episode done in 16 steps, total reward 16.00\n",
      "Episode done in 17 steps, total reward 17.00\n"
     ]
    }
   ],
   "source": [
    "env = gym.make(\"CartPole-v1\")\n",
    "total_reward = 0.0\n",
    "total_steps = 0\n",
    "obs = env.reset()\n",
    "\n",
    "while True:\n",
    "    action = env.action_space.sample()\n",
    "    obs, reward, done, _, _ = env.step(action)\n",
    "    total_reward += reward\n",
    "    total_steps += 1\n",
    "    if done:\n",
    "        break\n",
    "    print(\"Episode done in %d steps, total reward %.2f\" % (total_steps, total_reward))"
   ]
  },
  {
   "attachments": {},
   "cell_type": "markdown",
   "metadata": {},
   "source": [
    "### Adding Wrapper"
   ]
  },
  {
   "attachments": {},
   "cell_type": "markdown",
   "metadata": {},
   "source": [
    "The Wrapper class inherits the Env class and adds an extra layer of functionality"
   ]
  },
  {
   "attachments": {},
   "cell_type": "markdown",
   "metadata": {},
   "source": [
    "By issuing the random actions, we make our agent\n",
    "explore the environment and from time to time drift away from the beaten track of\n",
    "its policy. Too much or too little/no exploration is detrimental to performance"
   ]
  },
  {
   "cell_type": "code",
   "execution_count": 36,
   "metadata": {},
   "outputs": [],
   "source": [
    "from typing import TypeVar\n",
    "import random\n",
    "\n",
    "Action = TypeVar('Action')\n",
    "\n",
    "class RandomActionWrapper(gym.ActionWrapper):\n",
    "    def __init__(self, env, epsilon=0.1):\n",
    "        super().__init__(env)\n",
    "        self.epsilon = epsilon\n",
    "    \n",
    "    def action(self, action: Action) -> Action:\n",
    "        if random.random() < self.epsilon:\n",
    "            print(\"Random!\")\n",
    "            return self.env.action_space.sample()\n",
    "        return action"
   ]
  },
  {
   "cell_type": "code",
   "execution_count": 39,
   "metadata": {},
   "outputs": [
    {
     "name": "stdout",
     "output_type": "stream",
     "text": [
      "Reward got: 1.00\n",
      "Reward got: 2.00\n",
      "Reward got: 3.00\n",
      "Random!\n",
      "Reward got: 4.00\n",
      "Reward got: 5.00\n",
      "Reward got: 6.00\n",
      "Reward got: 7.00\n",
      "Reward got: 8.00\n",
      "Reward got: 9.00\n"
     ]
    }
   ],
   "source": [
    "env = RandomActionWrapper(gym.make(\"CartPole-v1\"))\n",
    "obs = env.reset()\n",
    "total_reward = 0.0\n",
    "while True:\n",
    "    obs, reward, done,_, _ = env.step(0)\n",
    "    total_reward += reward\n",
    "    if done:\n",
    "        break\n",
    "    print(\"Reward got: %.2f\" % total_reward)"
   ]
  },
  {
   "attachments": {},
   "cell_type": "markdown",
   "metadata": {},
   "source": [
    "## Cross Entropy"
   ]
  },
  {
   "attachments": {},
   "cell_type": "markdown",
   "metadata": {},
   "source": [
    "##### Cross-entropy method is model-free, policy-based, and on-policy, which means the following:\n",
    "##### • It doesn't build any model of the environment; informs the agent it's action at every step\n",
    "##### • It approximates the policy of the agent\n",
    "##### • It requires fresh data obtained from the environment"
   ]
  },
  {
   "attachments": {},
   "cell_type": "markdown",
   "metadata": {},
   "source": [
    "1. Play N number of episodes using our current model and environment.\n",
    "2. Calculate the total reward for every episode and decide on a reward\n",
    "boundary. Usually, we use some percentile of all rewards, such as 50th\n",
    "or 70th.\n",
    "3. Throw away all episodes with a reward below the boundary.\n",
    "4. Train on the remaining \"elite\" episodes using observations as the input and\n",
    "issued actions as the desired output.\n",
    "5. Repeat from step 1 until we become satisfied with the result."
   ]
  },
  {
   "attachments": {},
   "cell_type": "markdown",
   "metadata": {},
   "source": [
    "### Cross-entropy Method on CartPole"
   ]
  },
  {
   "attachments": {},
   "cell_type": "markdown",
   "metadata": {},
   "source": [
    "Model's core is a one-hidden-layer\n",
    "NN, with rectified linear unit (ReLU) and 128 hidden neurons (which is absolutely\n",
    "arbitrary)"
   ]
  },
  {
   "cell_type": "code",
   "execution_count": 20,
   "metadata": {},
   "outputs": [],
   "source": [
    "#Imports\n",
    "import gym\n",
    "import torch\n",
    "import torch.nn as nn\n",
    "import torch.optim as optim\n",
    "from collections import namedtuple\n",
    "import numpy as np\n",
    "from tensorboardX import SummaryWriter"
   ]
  },
  {
   "cell_type": "code",
   "execution_count": 21,
   "metadata": {},
   "outputs": [],
   "source": [
    "HIDDEN_SIZE = 128       # Neuron Count\n",
    "BATCH_SIZE = 16         # Episode Count\n",
    "PERCENTILE = 70         # Leaves top 30& of episodes sorted by reward"
   ]
  },
  {
   "cell_type": "code",
   "execution_count": 139,
   "metadata": {},
   "outputs": [],
   "source": [
    "#The output from the NN is a probability distribution over actions\n",
    "class Net(nn.Module):\n",
    "    def __init__(self, obs_size, hidden_size, n_actions):\n",
    "        super(Net, self).__init__()\n",
    "        self.net = nn.Sequential(\n",
    "            nn.Linear(obs_size, hidden_size),\n",
    "            nn.ReLU(),\n",
    "            nn.Linear(hidden_size, n_actions)\n",
    "        )\n",
    "\n",
    "    def forward(self, x):\n",
    "        return self.net(x)"
   ]
  },
  {
   "cell_type": "code",
   "execution_count": 140,
   "metadata": {},
   "outputs": [],
   "source": [
    "Episode = namedtuple('Episode', field_names=['reward', 'steps'])\n",
    "EpisodeStep = namedtuple('EpisodeStep', field_names=['observation', 'action'])  #Single step made by agent"
   ]
  },
  {
   "cell_type": "code",
   "execution_count": 163,
   "metadata": {},
   "outputs": [],
   "source": [
    "#Generates Batches which are lists of episode instances\n",
    "def iterate_batches(env, net, batch_size):\n",
    "    batch = []\n",
    "    episode_reward = 0.0\n",
    "    episode_steps = []\n",
    "    obs = env.reset()[0]\n",
    "    required_type = type(obs)\n",
    "    sm = nn.Softmax(dim=1)      #Softmax layer to convert NN output prob distribution of actions\n",
    "    while True:\n",
    "        #Convert current observation to tensor and pass thorugh NN\n",
    "        obs_v = torch.FloatTensor([obs])\n",
    "        act_probs_v = sm(net(obs_v))\n",
    "        act_probs = act_probs_v.data.numpy()[0]\n",
    "        #Sample action\n",
    "        action = np.random.choice(len(act_probs), p=act_probs)\n",
    "        next_obs, reward, is_done,_, _ = env.step(action)\n",
    "        #Record values\n",
    "        episode_reward += reward\n",
    "        step = EpisodeStep(observation=obs, action=action)\n",
    "        episode_steps.append(step)\n",
    "        #\n",
    "        if is_done:\n",
    "            e = Episode(reward=episode_reward, steps=episode_steps)\n",
    "            batch.append(e)\n",
    "            episode_reward = 0.0\n",
    "            episode_steps = []\n",
    "            next_obs = env.reset()\n",
    "            if len(batch) == batch_size:\n",
    "                yield batch                     # Yield works like 'return' but will output a generator\n",
    "                batch = []    \n",
    "        obs = next_obs\n",
    "        if type(obs) == required_type:\n",
    "            continue\n",
    "        obs = obs[0]"
   ]
  },
  {
   "cell_type": "code",
   "execution_count": 164,
   "metadata": {},
   "outputs": [],
   "source": [
    "#Calculate boundary reward to filter elite episodes to train on\n",
    "def filter_batch(batch, percentile):\n",
    "    rewards = list(map(lambda s: s.reward, batch))\n",
    "    reward_bound = np.percentile(rewards, percentile)\n",
    "    reward_mean = float(np.mean(rewards))\n",
    "\n",
    "    train_obs = []\n",
    "    train_act = []\n",
    "    for reward, steps in batch:\n",
    "        if reward < reward_bound:\n",
    "            continue\n",
    "        train_obs.extend(map(lambda step: step.observation, steps))\n",
    "        train_act.extend(map(lambda step: step.action, steps))\n",
    "\n",
    "    train_obs_v = torch.FloatTensor(train_obs)\n",
    "    train_act_v = torch.LongTensor(train_act)\n",
    "    return train_obs_v, train_act_v, reward_bound, reward_mean"
   ]
  },
  {
   "cell_type": "code",
   "execution_count": 165,
   "metadata": {},
   "outputs": [
    {
     "name": "stdout",
     "output_type": "stream",
     "text": [
      "0: loss=0.689, reward_mean=24.2, rw_bound=27.5\n",
      "1: loss=0.695, reward_mean=22.6, rw_bound=23.5\n",
      "2: loss=0.684, reward_mean=26.9, rw_bound=33.5\n",
      "3: loss=0.685, reward_mean=27.6, rw_bound=26.5\n",
      "4: loss=0.672, reward_mean=33.8, rw_bound=36.5\n",
      "5: loss=0.665, reward_mean=25.4, rw_bound=27.5\n",
      "6: loss=0.663, reward_mean=35.5, rw_bound=41.5\n",
      "7: loss=0.661, reward_mean=32.1, rw_bound=39.0\n",
      "8: loss=0.644, reward_mean=32.8, rw_bound=39.5\n",
      "9: loss=0.630, reward_mean=40.9, rw_bound=53.0\n",
      "10: loss=0.632, reward_mean=53.2, rw_bound=63.0\n",
      "11: loss=0.623, reward_mean=48.6, rw_bound=57.5\n",
      "12: loss=0.625, reward_mean=44.4, rw_bound=53.0\n",
      "13: loss=0.615, reward_mean=64.0, rw_bound=73.5\n",
      "14: loss=0.600, reward_mean=57.5, rw_bound=60.5\n",
      "15: loss=0.615, reward_mean=59.6, rw_bound=63.0\n",
      "16: loss=0.584, reward_mean=55.5, rw_bound=65.0\n",
      "17: loss=0.577, reward_mean=59.9, rw_bound=72.0\n",
      "18: loss=0.587, reward_mean=68.5, rw_bound=78.5\n",
      "19: loss=0.589, reward_mean=52.6, rw_bound=56.0\n",
      "20: loss=0.574, reward_mean=89.6, rw_bound=94.0\n",
      "21: loss=0.550, reward_mean=63.1, rw_bound=68.5\n",
      "22: loss=0.586, reward_mean=86.4, rw_bound=108.5\n",
      "23: loss=0.570, reward_mean=79.2, rw_bound=89.5\n",
      "24: loss=0.564, reward_mean=81.2, rw_bound=87.0\n",
      "25: loss=0.582, reward_mean=84.0, rw_bound=105.5\n",
      "26: loss=0.555, reward_mean=82.4, rw_bound=75.5\n",
      "27: loss=0.549, reward_mean=88.6, rw_bound=88.0\n",
      "28: loss=0.568, reward_mean=96.6, rw_bound=110.5\n",
      "29: loss=0.544, reward_mean=129.7, rw_bound=136.0\n",
      "30: loss=0.554, reward_mean=129.9, rw_bound=164.5\n",
      "31: loss=0.556, reward_mean=122.1, rw_bound=136.5\n",
      "32: loss=0.540, reward_mean=124.1, rw_bound=142.0\n",
      "33: loss=0.556, reward_mean=148.2, rw_bound=171.0\n",
      "34: loss=0.540, reward_mean=158.2, rw_bound=179.0\n",
      "35: loss=0.558, reward_mean=152.2, rw_bound=169.0\n",
      "36: loss=0.569, reward_mean=171.6, rw_bound=179.0\n",
      "37: loss=0.534, reward_mean=200.3, rw_bound=239.5\n",
      "Solved!\n"
     ]
    }
   ],
   "source": [
    "env = gym.make(\"CartPole-v1\")\n",
    "obs_size = env.observation_space.shape[0]\n",
    "n_actions = env.action_space.n\n",
    "\n",
    "#Create required objects\n",
    "net = Net(obs_size, HIDDEN_SIZE, n_actions)\n",
    "objective = nn.CrossEntropyLoss()\n",
    "optimizer = optim.Adam(params=net.parameters(), lr=0.01)\n",
    "writer = SummaryWriter(comment=\"-cartpole\")\n",
    "\n",
    "#Training Loop\n",
    "for iter_no, batch in enumerate(iterate_batches(env, net, BATCH_SIZE)):\n",
    "    #Filter elite episodes\n",
    "    obs_v, acts_v, reward_b, reward_m = filter_batch(batch, PERCENTILE)\n",
    "    optimizer.zero_grad()\n",
    "    action_scores_v = net(obs_v)\n",
    "    \n",
    "    #Calculate cross-entropy between NN output and agent actions to optimize NN\n",
    "    loss_v = objective(action_scores_v, acts_v)\n",
    "    loss_v.backward()\n",
    "    optimizer.step()\n",
    "\n",
    "    print(\"%d: loss=%.3f, reward_mean=%.1f, rw_bound=%.1f\" % (\n",
    "        iter_no, loss_v.item(), reward_m, reward_b))\n",
    "    writer.add_scalar(\"loss\", loss_v.item(), iter_no)\n",
    "    writer.add_scalar(\"reward_bound\", reward_b, iter_no)\n",
    "    writer.add_scalar(\"reward_mean\", reward_m, iter_no)\n",
    "\n",
    "    if reward_m > 199:\n",
    "        print(\"Solved!\")\n",
    "        break\n",
    "writer.close()"
   ]
  },
  {
   "attachments": {},
   "cell_type": "markdown",
   "metadata": {},
   "source": [
    "Episode number is 16 (batchsize) X 37 which is 592"
   ]
  },
  {
   "attachments": {},
   "cell_type": "markdown",
   "metadata": {},
   "source": [
    "## Q-Learning"
   ]
  },
  {
   "attachments": {},
   "cell_type": "markdown",
   "metadata": {},
   "source": [
    "##### Model-free\n",
    "    Doesn't build model of environment, informs agent action instead\n",
    "##### Values-based\n",
    "    Updates value function based on Bellman equation\n",
    "##### Off-policy\n",
    "    Learns optimal policy independent of agent actions\n",
    "\n",
    "How it works: https://towardsdatascience.com/a-beginners-guide-to-q-learning-c3e2a30a653c"
   ]
  },
  {
   "cell_type": "code",
   "execution_count": 28,
   "metadata": {},
   "outputs": [],
   "source": [
    "import gym \n",
    "import numpy as np\n",
    "import matplotlib.pyplot as plt\n",
    "import time"
   ]
  },
  {
   "cell_type": "code",
   "execution_count": 3,
   "metadata": {},
   "outputs": [],
   "source": [
    "env = gym.make('CartPole-v1')"
   ]
  },
  {
   "cell_type": "code",
   "execution_count": 5,
   "metadata": {},
   "outputs": [],
   "source": [
    "state_space = 4 # number of states\n",
    "action_space = 2 # number of possible actions\n",
    "\n",
    "def Qtable(state_space,action_space,bin_size = 30):\n",
    "    \n",
    "    bins = [np.linspace(-4.8,4.8,bin_size),\n",
    "            np.linspace(-4,4,bin_size),\n",
    "            np.linspace(-0.418,0.418,bin_size),\n",
    "            np.linspace(-4,4,bin_size)]\n",
    "    \n",
    "    q_table = np.random.uniform(low=-1,high=1,size=([bin_size] * state_space + [action_space]))\n",
    "    return q_table, bins\n",
    "\n",
    "def Discrete(state, bins):\n",
    "    index = []\n",
    "    for i in range(len(state)): index.append(np.digitize(state[i],bins[i]) - 1)\n",
    "    return tuple(index)"
   ]
  },
  {
   "cell_type": "code",
   "execution_count": 24,
   "metadata": {},
   "outputs": [],
   "source": [
    "def Q_learning(q_table, bins, episodes = 5000, gamma = 0.95, lr = 0.1, timestep = 100, epsilon = 0.2):\n",
    "    \n",
    "    rewards = 0\n",
    "    steps = 0\n",
    "    for episode in range(1,episodes+1):\n",
    "        steps += 1 \n",
    "        current_state = Discrete(env.reset()[0],bins)      \n",
    "        score = 0\n",
    "        done = False\n",
    "        while not done: \n",
    "            if episode%timestep==0:\n",
    "                env.render()\n",
    "            if np.random.uniform(0,1) < epsilon:\n",
    "                action = env.action_space.sample()\n",
    "            else:\n",
    "                action = np.argmax(q_table[current_state])\n",
    "            observation, reward, done,_, info = env.step(action)\n",
    "            next_state = Discrete(observation,bins)\n",
    "            score+=reward\n",
    "          \n",
    "            if not done:\n",
    "                    max_future_q = np.max(q_table[next_state])\n",
    "                    current_q = q_table[current_state+(action,)]\n",
    "                    new_q = (1-lr)*current_q + lr*(reward + gamma*max_future_q)\n",
    "                    q_table[current_state+(action,)] = new_q\n",
    "            current_state = next_state\n",
    "            \n",
    "        # End of the loop update\n",
    "        else:\n",
    "            rewards += score\n",
    "            if score > 195 and steps >= 100:\n",
    "                print('Solved')\n",
    "        if episode % timestep == 0:\n",
    "            print(reward / timestep)"
   ]
  },
  {
   "cell_type": "code",
   "execution_count": 41,
   "metadata": {},
   "outputs": [],
   "source": [
    "def Q_learning(q_table, bins, episodes = 5000, gamma = 0.95, lr = 0.1, timestep = 5000, epsilon = 0.2):\n",
    "    rewards = 0\n",
    "    solved = False \n",
    "    steps = 0 \n",
    "    runs = [0]\n",
    "    data = {'max' : [0], 'avg' : [0]}\n",
    "    start = time.time()\n",
    "    ep = [i for i in range(0,episodes + 1,timestep)] \n",
    "    \n",
    "    for episode in range(1,episodes+1):\n",
    "        \n",
    "        current_state = Discrete(env.reset()[0],bins) # initial observation\n",
    "        score = 0\n",
    "        done = False\n",
    "        temp_start = time.time()\n",
    "        \n",
    "        while not done:\n",
    "            steps += 1 \n",
    "            ep_start = time.time()\n",
    "            if episode%timestep == 0:\n",
    "                env.render()\n",
    "                \n",
    "            if np.random.uniform(0,1) < epsilon:\n",
    "                action = env.action_space.sample()\n",
    "            else:\n",
    "                action = np.argmax(q_table[current_state])\n",
    "            \n",
    "            observation, reward, done,_, info = env.step(action)\n",
    "            next_state = Discrete(observation,bins)\n",
    "\n",
    "            score += reward\n",
    "            \n",
    "\n",
    "            if not done:\n",
    "                max_future_q = np.max(q_table[next_state])\n",
    "                current_q = q_table[current_state+(action,)]\n",
    "                new_q = (1-lr)*current_q + lr*(reward + gamma*max_future_q)\n",
    "                q_table[current_state+(action,)] = new_q\n",
    "\n",
    "            current_state = next_state\n",
    "            \n",
    "        # End of the loop update\n",
    "        else:\n",
    "            rewards += score\n",
    "            runs.append(score)\n",
    "            if score > 195 and steps >= 100 and solved == False: # considered as a solved:\n",
    "                solved = True\n",
    "                print('Solved in episode : {} in time {}'.format(episode, (time.time()-ep_start)))\n",
    "        \n",
    "        # Timestep value update\n",
    "        if episode%timestep == 0:\n",
    "            print('Episode : {} | Reward -> {} | Max reward : {} | Time : {}'.format(episode,rewards/timestep, max(runs), time.time() - ep_start))\n",
    "            data['max'].append(max(runs))\n",
    "            data['avg'].append(rewards/timestep)\n",
    "            if rewards/timestep >= 199: \n",
    "                print('Solved in episode : {}'.format(episode))\n",
    "            rewards, runs= 0, [0] \n",
    "            \n",
    "    if len(ep) == len(data['max']):\n",
    "        plt.plot(ep, data['max'], label = 'Max')\n",
    "        plt.plot(ep, data['avg'], label = 'Avg')\n",
    "        plt.xlabel('Episode')\n",
    "        plt.ylabel('Reward')\n",
    "        plt.legend(loc = \"upper left\")\n",
    "        \n",
    "    env.close()"
   ]
  },
  {
   "cell_type": "code",
   "execution_count": 42,
   "metadata": {},
   "outputs": [
    {
     "name": "stdout",
     "output_type": "stream",
     "text": [
      "Solved in episode : 358 in time 0.0\n",
      "Episode : 1000 | Reward -> 82.231 | Max reward : 411.0 | Time : 0.0010416507720947266\n",
      "Episode : 2000 | Reward -> 112.461 | Max reward : 500.0 | Time : 0.0010004043579101562\n",
      "Episode : 3000 | Reward -> 119.026 | Max reward : 456.0 | Time : 0.001911163330078125\n",
      "Episode : 4000 | Reward -> 136.38 | Max reward : 585.0 | Time : 0.000997781753540039\n",
      "Episode : 5000 | Reward -> 164.666 | Max reward : 636.0 | Time : 0.0009996891021728516\n"
     ]
    },
    {
     "data": {
      "image/png": "[encoded data removed]",
      "text/plain": [
       "<Figure size 640x480 with 1 Axes>"
      ]
     },
     "metadata": {},
     "output_type": "display_data"
    }
   ],
   "source": [
    "# TRANING\n",
    "q_table, bins = Qtable(len(env.observation_space.low), env.action_space.n)\n",
    "\n",
    "Q_learning(q_table, bins, lr = 0.15, gamma = 0.995, episodes = 5000, timestep = 1000)"
   ]
  },
  {
   "attachments": {},
   "cell_type": "markdown",
   "metadata": {},
   "source": [
    "#### Average Reward continues to increase which is desirable. \n",
    "##### Reached threshold in less episodes than cross entropy method\n",
    "In the more complex problems, the Q-table wouldn’t handle a huge number of states and actions, which makes it inefficient to use. The Deep Q-Network is a solution to this problem."
   ]
  },
  {
   "attachments": {},
   "cell_type": "markdown",
   "metadata": {},
   "source": [
    "## DQN (Deep Q-Network)"
   ]
  },
  {
   "attachments": {},
   "cell_type": "markdown",
   "metadata": {},
   "source": [
    "Q-Learning struggles with large number of states. For cartpole, the combinations of the 4 float states is extremely large."
   ]
  },
  {
   "attachments": {},
   "cell_type": "markdown",
   "metadata": {},
   "source": [
    "As a solution to this problem, we can use a nonlinear representation that maps both\n",
    "the state and action onto a value. In machine learning, this is called a \"regression\n",
    "problem. This is where Neural Nets can be used                ."
   ]
  },
  {
   "attachments": {},
   "cell_type": "markdown",
   "metadata": {},
   "source": [
    "### PTAN to solve CartPole"
   ]
  },
  {
   "cell_type": "code",
   "execution_count": 44,
   "metadata": {},
   "outputs": [],
   "source": [
    "import gym\n",
    "import ptan\n",
    "import torch\n",
    "import torch.nn as nn\n",
    "import torch.optim as optim\n",
    "import torch.nn.functional as F"
   ]
  },
  {
   "cell_type": "code",
   "execution_count": 45,
   "metadata": {},
   "outputs": [],
   "source": [
    "HIDDEN_SIZE = 128\n",
    "BATCH_SIZE = 16\n",
    "TGT_NET_SYNC = 10\n",
    "GAMMA = 0.9\n",
    "REPLAY_SIZE = 1000\n",
    "LR = 1e-3\n",
    "EPS_DECAY=0.99"
   ]
  },
  {
   "cell_type": "code",
   "execution_count": 50,
   "metadata": {},
   "outputs": [],
   "source": [
    "class Net(nn.Module):\n",
    "    def __init__(self, obs_size, hidden_size, n_actions):\n",
    "        super(Net, self).__init__()\n",
    "        self.net = nn.Sequential(\n",
    "            nn.Linear(obs_size, hidden_size),\n",
    "            nn.ReLU(),\n",
    "            nn.Linear(hidden_size, n_actions)\n",
    "        )\n",
    "\n",
    "    def forward(self, x):\n",
    "        return self.net(x.float())\n",
    "\n",
    "\n",
    "@torch.no_grad()\n",
    "def unpack_batch(batch, net, gamma):\n",
    "    states = []\n",
    "    actions = []\n",
    "    rewards = []\n",
    "    done_masks = []\n",
    "    last_states = []\n",
    "    for exp in batch:\n",
    "        states.append(exp.state)\n",
    "        actions.append(exp.action)\n",
    "        rewards.append(exp.reward)\n",
    "        done_masks.append(exp.last_state is None)\n",
    "        if exp.last_state is None:\n",
    "            last_states.append(exp.state)\n",
    "        else:\n",
    "            last_states.append(exp.last_state)\n",
    "\n",
    "    states_v = torch.tensor(states)\n",
    "    actions_v = torch.tensor(actions)\n",
    "    rewards_v = torch.tensor(rewards)\n",
    "    last_states_v = torch.tensor(last_states)\n",
    "    last_state_q_v = net(last_states_v)\n",
    "    best_last_q_v = torch.max(last_state_q_v, dim=1)[0]\n",
    "    best_last_q_v[done_masks] = 0.0\n",
    "    return states_v, actions_v, best_last_q_v * gamma + rewards_v"
   ]
  },
  {
   "cell_type": "code",
   "execution_count": 54,
   "metadata": {},
   "outputs": [
    {
     "ename": "TypeError",
     "evalue": "can't convert np.ndarray of type numpy.object_. The only supported types are: float64, float32, float16, complex64, complex128, int64, int32, int16, int8, uint8, and bool.",
     "output_type": "error",
     "traceback": [
      "\u001b[1;31m---------------------------------------------------------------------------\u001b[0m",
      "\u001b[1;31mTypeError\u001b[0m                                 Traceback (most recent call last)",
      "Cell \u001b[1;32mIn[54], line 25\u001b[0m\n\u001b[0;32m     23\u001b[0m \u001b[39mwhile\u001b[39;00m \u001b[39mTrue\u001b[39;00m:\n\u001b[0;32m     24\u001b[0m     step \u001b[39m+\u001b[39m\u001b[39m=\u001b[39m \u001b[39m1\u001b[39m\n\u001b[1;32m---> 25\u001b[0m     buffer\u001b[39m.\u001b[39;49mpopulate(\u001b[39m1\u001b[39;49m)\n\u001b[0;32m     27\u001b[0m     \u001b[39mfor\u001b[39;00m reward, steps \u001b[39min\u001b[39;00m exp_source\u001b[39m.\u001b[39mpop_rewards_steps():        \u001b[39m#returns the list of tuples with information about episodes completed\u001b[39;00m\n\u001b[0;32m     28\u001b[0m         episode \u001b[39m+\u001b[39m\u001b[39m=\u001b[39m \u001b[39m1\u001b[39m\n",
      "File \u001b[1;32mc:\\Users\\nedeesha.weerasuriya\\Anaconda3\\envs\\reinforce_learn\\lib\\site-packages\\ptan\\experience.py:368\u001b[0m, in \u001b[0;36mExperienceReplayBuffer.populate\u001b[1;34m(self, samples)\u001b[0m\n\u001b[0;32m    363\u001b[0m \u001b[39m\"\"\"\u001b[39;00m\n\u001b[0;32m    364\u001b[0m \u001b[39mPopulates samples into the buffer\u001b[39;00m\n\u001b[0;32m    365\u001b[0m \u001b[39m:param samples: how many samples to populate\u001b[39;00m\n\u001b[0;32m    366\u001b[0m \u001b[39m\"\"\"\u001b[39;00m\n\u001b[0;32m    367\u001b[0m \u001b[39mfor\u001b[39;00m _ \u001b[39min\u001b[39;00m \u001b[39mrange\u001b[39m(samples):\n\u001b[1;32m--> 368\u001b[0m     entry \u001b[39m=\u001b[39m \u001b[39mnext\u001b[39;49m(\u001b[39mself\u001b[39;49m\u001b[39m.\u001b[39;49mexperience_source_iter)\n\u001b[0;32m    369\u001b[0m     \u001b[39mself\u001b[39m\u001b[39m.\u001b[39m_add(entry)\n",
      "File \u001b[1;32mc:\\Users\\nedeesha.weerasuriya\\Anaconda3\\envs\\reinforce_learn\\lib\\site-packages\\ptan\\experience.py:176\u001b[0m, in \u001b[0;36mExperienceSourceFirstLast.__iter__\u001b[1;34m(self)\u001b[0m\n\u001b[0;32m    175\u001b[0m \u001b[39mdef\u001b[39;00m \u001b[39m__iter__\u001b[39m(\u001b[39mself\u001b[39m):\n\u001b[1;32m--> 176\u001b[0m     \u001b[39mfor\u001b[39;00m exp \u001b[39min\u001b[39;00m \u001b[39msuper\u001b[39m(ExperienceSourceFirstLast, \u001b[39mself\u001b[39m)\u001b[39m.\u001b[39m\u001b[39m__iter__\u001b[39m():\n\u001b[0;32m    177\u001b[0m         \u001b[39mif\u001b[39;00m exp[\u001b[39m-\u001b[39m\u001b[39m1\u001b[39m]\u001b[39m.\u001b[39mdone \u001b[39mand\u001b[39;00m \u001b[39mlen\u001b[39m(exp) \u001b[39m<\u001b[39m\u001b[39m=\u001b[39m \u001b[39mself\u001b[39m\u001b[39m.\u001b[39msteps:\n\u001b[0;32m    178\u001b[0m             last_state \u001b[39m=\u001b[39m \u001b[39mNone\u001b[39;00m\n",
      "File \u001b[1;32mc:\\Users\\nedeesha.weerasuriya\\Anaconda3\\envs\\reinforce_learn\\lib\\site-packages\\ptan\\experience.py:82\u001b[0m, in \u001b[0;36mExperienceSource.__iter__\u001b[1;34m(self)\u001b[0m\n\u001b[0;32m     80\u001b[0m         states_indices\u001b[39m.\u001b[39mappend(idx)\n\u001b[0;32m     81\u001b[0m \u001b[39mif\u001b[39;00m states_input:\n\u001b[1;32m---> 82\u001b[0m     states_actions, new_agent_states \u001b[39m=\u001b[39m \u001b[39mself\u001b[39;49m\u001b[39m.\u001b[39;49magent(states_input, agent_states)\n\u001b[0;32m     83\u001b[0m     \u001b[39mfor\u001b[39;00m idx, action \u001b[39min\u001b[39;00m \u001b[39menumerate\u001b[39m(states_actions):\n\u001b[0;32m     84\u001b[0m         g_idx \u001b[39m=\u001b[39m states_indices[idx]\n",
      "File \u001b[1;32mc:\\Users\\nedeesha.weerasuriya\\Anaconda3\\envs\\reinforce_learn\\lib\\site-packages\\ptan\\agent.py:70\u001b[0m, in \u001b[0;36mDQNAgent.__call__\u001b[1;34m(self, states, agent_states)\u001b[0m\n\u001b[0;32m     68\u001b[0m     agent_states \u001b[39m=\u001b[39m [\u001b[39mNone\u001b[39;00m] \u001b[39m*\u001b[39m \u001b[39mlen\u001b[39m(states)\n\u001b[0;32m     69\u001b[0m \u001b[39mif\u001b[39;00m \u001b[39mself\u001b[39m\u001b[39m.\u001b[39mpreprocessor \u001b[39mis\u001b[39;00m \u001b[39mnot\u001b[39;00m \u001b[39mNone\u001b[39;00m:\n\u001b[1;32m---> 70\u001b[0m     states \u001b[39m=\u001b[39m \u001b[39mself\u001b[39;49m\u001b[39m.\u001b[39;49mpreprocessor(states)\n\u001b[0;32m     71\u001b[0m     \u001b[39mif\u001b[39;00m torch\u001b[39m.\u001b[39mis_tensor(states):\n\u001b[0;32m     72\u001b[0m         states \u001b[39m=\u001b[39m states\u001b[39m.\u001b[39mto(\u001b[39mself\u001b[39m\u001b[39m.\u001b[39mdevice)\n",
      "File \u001b[1;32mc:\\Users\\nedeesha.weerasuriya\\Anaconda3\\envs\\reinforce_learn\\lib\\site-packages\\ptan\\agent.py:47\u001b[0m, in \u001b[0;36mdefault_states_preprocessor\u001b[1;34m(states)\u001b[0m\n\u001b[0;32m     45\u001b[0m \u001b[39melse\u001b[39;00m:\n\u001b[0;32m     46\u001b[0m     np_states \u001b[39m=\u001b[39m np\u001b[39m.\u001b[39marray([np\u001b[39m.\u001b[39marray(s, copy\u001b[39m=\u001b[39m\u001b[39mFalse\u001b[39;00m) \u001b[39mfor\u001b[39;00m s \u001b[39min\u001b[39;00m states], copy\u001b[39m=\u001b[39m\u001b[39mFalse\u001b[39;00m)\n\u001b[1;32m---> 47\u001b[0m \u001b[39mreturn\u001b[39;00m torch\u001b[39m.\u001b[39;49mtensor(np_states)\n",
      "\u001b[1;31mTypeError\u001b[0m: can't convert np.ndarray of type numpy.object_. The only supported types are: float64, float32, float16, complex64, complex128, int64, int32, int16, int8, uint8, and bool."
     ]
    }
   ],
   "source": [
    "env = gym.make(\"CartPole-v1\")\n",
    "obs_size = env.observation_space.shape[0]\n",
    "n_actions = env.action_space.n\n",
    "\n",
    "#Data Pipeline\n",
    "net = Net(obs_size, HIDDEN_SIZE, n_actions)\n",
    "tgt_net = ptan.agent.TargetNet(net)\n",
    "selector = ptan.actions.ArgmaxActionSelector()\n",
    "selector = ptan.actions.EpsilonGreedyActionSelector(\n",
    "    epsilon=1, selector=selector)\n",
    "agent = ptan.agent.DQNAgent(net, selector)\n",
    "exp_source = ptan.experience.ExperienceSourceFirstLast(\n",
    "    env, agent, gamma=GAMMA)\n",
    "buffer = ptan.experience.ExperienceReplayBuffer(\n",
    "    exp_source, buffer_size=REPLAY_SIZE)\n",
    "optimizer = optim.Adam(net.parameters(), LR)\n",
    "\n",
    "step = 0\n",
    "episode = 0\n",
    "solved = False\n",
    "\n",
    "#Fetch one sample from the experience source and then check for the finished episode\n",
    "while True:\n",
    "    step += 1\n",
    "    buffer.populate(1)\n",
    "\n",
    "    for reward, steps in exp_source.pop_rewards_steps():        #returns the list of tuples with information about episodes completed\n",
    "        episode += 1\n",
    "        print(\"%d: episode %d done, reward=%.3f, epsilon=%.2f\" % (\n",
    "            step, episode, reward, selector.epsilon))\n",
    "        solved = reward > 150\n",
    "    if solved:\n",
    "        print(\"Congrats!\")\n",
    "        break\n",
    "\n",
    "    if len(buffer) < 2*BATCH_SIZE:\n",
    "        continue\n",
    "\n",
    "    batch = buffer.sample(BATCH_SIZE)\n",
    "    #Covert to tensors for DQN training\n",
    "    states_v, actions_v, tgt_q_v = unpack_batch(\n",
    "        batch, tgt_net.target_model, GAMMA)\n",
    "    optimizer.zero_grad()\n",
    "    q_v = net(states_v)\n",
    "    q_v = q_v.gather(1, actions_v.unsqueeze(-1)).squeeze(-1)\n",
    "    #Backpropagation\n",
    "    loss_v = F.mse_loss(q_v, tgt_q_v)\n",
    "    loss_v.backward()\n",
    "    optimizer.step()\n",
    "    selector.epsilon *= EPS_DECAY\n",
    "\n",
    "    #Target network syncs every 10 iterations\n",
    "    if step % TGT_NET_SYNC == 0:\n",
    "        tgt_net.sync()"
   ]
  },
  {
   "cell_type": "code",
   "execution_count": 53,
   "metadata": {},
   "outputs": [
    {
     "data": {
      "text/plain": [
       "<TimeLimit<OrderEnforcing<PassiveEnvChecker<CartPoleEnv<CartPole-v1>>>>>"
      ]
     },
     "execution_count": 53,
     "metadata": {},
     "output_type": "execute_result"
    }
   ],
   "source": [
    "env"
   ]
  },
  {
   "cell_type": "code",
   "execution_count": null,
   "metadata": {},
   "outputs": [],
   "source": []
  }
 ],
 "metadata": {
  "kernelspec": {
   "display_name": "nlp_env",
   "language": "python",
   "name": "python3"
  },
  "language_info": {
   "codemirror_mode": {
    "name": "ipython",
    "version": 3
   },
   "file_extension": ".py",
   "mimetype": "text/x-python",
   "name": "python",
   "nbconvert_exporter": "python",
   "pygments_lexer": "ipython3",
   "version": "3.10.4"
  },
  "orig_nbformat": 4,
  "vscode": {
   "interpreter": {
    "hash": "fb2a35bf23905b6eb82b39f72a8272184e427c68824805aa570958529f4db3f8"
   }
  }
 },
 "nbformat": 4,
 "nbformat_minor": 2
}
